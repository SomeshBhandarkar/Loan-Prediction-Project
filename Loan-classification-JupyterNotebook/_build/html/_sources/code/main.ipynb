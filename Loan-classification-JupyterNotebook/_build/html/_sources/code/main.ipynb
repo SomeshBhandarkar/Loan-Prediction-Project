{
 "cells": [
  {
   "cell_type": "markdown",
   "metadata": {},
   "source": [
    "### Fast API: "
   ]
  },
  {
   "cell_type": "code",
   "execution_count": null,
   "metadata": {},
   "outputs": [],
   "source": [
    "from fastapi import FastAPI\n",
    "from pydantic import BaseModel\n",
    "import joblib\n",
    "import numpy as np\n",
    "\n",
    "app = FastAPI()\n",
    "model = joblib.load('RF_loan_prediction_model.pkl')\n",
    "\n",
    "class LoanPredictionInput(BaseModel):\n",
    "    CD_Account: int\n",
    "    Education: int\n",
    "    CCAvg: float\n",
    "    Mortgage: float\n",
    "    Age: int\n",
    "    Income: float\n",
    "\n",
    "@app.post(\"/predict\")\n",
    "def predict_loan(input_data: LoanPredictionInput):\n",
    "    features = [[\n",
    "        input_data.CD_Account,\n",
    "        input_data.Education,\n",
    "        input_data.CCAvg,\n",
    "        input_data.Mortgage,\n",
    "        input_data.Age,\n",
    "        input_data.Income\n",
    "    ]]\n",
    "    prediction = model.predict(features)\n",
    "    return {\"loan_prediction\": int(prediction[0])}\n",
    "\n",
    "@app.get(\"/\")\n",
    "def read_root():\n",
    "    return {\"message\": \"Loan Prediction API\"}\n"
   ]
  }
 ],
 "metadata": {
  "language_info": {
   "name": "python"
  }
 },
 "nbformat": 4,
 "nbformat_minor": 2
}
