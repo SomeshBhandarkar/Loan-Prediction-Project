{
 "cells": [
  {
   "cell_type": "code",
   "execution_count": 5,
   "metadata": {},
   "outputs": [],
   "source": [
    "import csv\n",
    "\n",
    "def fill_missing_values(input_file, output_file, column_name):\n",
    "    with open(input_file, 'r') as infile:\n",
    "        reader = csv.reader(infile)\n",
    "        headers = next(reader) \n",
    "        column_index = headers.index(column_name)  \n",
    "        rows = list(reader) \n",
    "\n",
    "    values = []\n",
    "    for row in rows:\n",
    "        value = row[column_index]\n",
    "        if value not in (\"\", None):  \n",
    "            values.append(float(value))\n",
    "    column_mean = sum(values) / len(values)\n",
    "\n",
    "    for row in rows:\n",
    "        if row[column_index] in (\"\", None):  \n",
    "            row[column_index] = f\"{column_mean:.2f}\" \n",
    "\n",
    "\n",
    "    with open(output_file, 'w', newline='') as outfile:\n",
    "        writer = csv.writer(outfile)\n",
    "        writer.writerow(headers)  \n",
    "        writer.writerows(rows)  \n",
    "\n",
    "fill_missing_values(\"final_queried_data.csv\", \"final_queried_data.csv\", 'CCAvg')"
   ]
  }
 ],
 "metadata": {
  "kernelspec": {
   "display_name": "Python 3",
   "language": "python",
   "name": "python3"
  },
  "language_info": {
   "codemirror_mode": {
    "name": "ipython",
    "version": 3
   },
   "file_extension": ".py",
   "mimetype": "text/x-python",
   "name": "python",
   "nbconvert_exporter": "python",
   "pygments_lexer": "ipython3",
   "version": "3.12.4"
  }
 },
 "nbformat": 4,
 "nbformat_minor": 2
}