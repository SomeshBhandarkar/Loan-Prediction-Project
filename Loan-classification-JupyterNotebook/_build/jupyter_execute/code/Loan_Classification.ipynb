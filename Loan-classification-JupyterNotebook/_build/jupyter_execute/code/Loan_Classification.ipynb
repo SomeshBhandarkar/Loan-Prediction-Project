{
 "cells": [
  {
   "cell_type": "markdown",
   "metadata": {},
   "source": [
    "### Loan Classification"
   ]
  },
  {
   "cell_type": "code",
   "execution_count": 14,
   "metadata": {},
   "outputs": [],
   "source": [
    "import pandas as pd\n",
    "import numpy as np \n",
    "from sklearn.model_selection import train_test_split, GridSearchCV, StratifiedGroupKFold, cross_val_score\n",
    "from sklearn.preprocessing import KBinsDiscretizer, OneHotEncoder, StandardScaler\n",
    "from sklearn.linear_model import LogisticRegression\n",
    "from sklearn.ensemble import RandomForestClassifier\n",
    "from xgboost import XGBClassifier\n",
    "from sklearn.linear_model import RidgeClassifier \n",
    "import matplotlib.pyplot as plt\n",
    "import seaborn as sns\n",
    "from sklearn.metrics import f1_score, confusion_matrix, mean_squared_error, r2_score"
   ]
  },
  {
   "cell_type": "code",
   "execution_count": 3,
   "metadata": {},
   "outputs": [
    {
     "data": {
      "text/html": [
       "<div>\n",
       "<style scoped>\n",
       "    .dataframe tbody tr th:only-of-type {\n",
       "        vertical-align: middle;\n",
       "    }\n",
       "\n",
       "    .dataframe tbody tr th {\n",
       "        vertical-align: top;\n",
       "    }\n",
       "\n",
       "    .dataframe thead th {\n",
       "        text-align: right;\n",
       "    }\n",
       "</style>\n",
       "<table border=\"1\" class=\"dataframe\">\n",
       "  <thead>\n",
       "    <tr style=\"text-align: right;\">\n",
       "      <th></th>\n",
       "      <th>ID</th>\n",
       "      <th>CD_Account</th>\n",
       "      <th>Education</th>\n",
       "      <th>Personal_Loan</th>\n",
       "      <th>CCAvg</th>\n",
       "      <th>Mortgage</th>\n",
       "      <th>Age</th>\n",
       "      <th>Income</th>\n",
       "    </tr>\n",
       "  </thead>\n",
       "  <tbody>\n",
       "    <tr>\n",
       "      <th>0</th>\n",
       "      <td>1</td>\n",
       "      <td>0</td>\n",
       "      <td>1</td>\n",
       "      <td>0</td>\n",
       "      <td>1.6</td>\n",
       "      <td>0</td>\n",
       "      <td>25</td>\n",
       "      <td>49</td>\n",
       "    </tr>\n",
       "    <tr>\n",
       "      <th>1</th>\n",
       "      <td>2</td>\n",
       "      <td>0</td>\n",
       "      <td>1</td>\n",
       "      <td>0</td>\n",
       "      <td>1.5</td>\n",
       "      <td>0</td>\n",
       "      <td>45</td>\n",
       "      <td>34</td>\n",
       "    </tr>\n",
       "    <tr>\n",
       "      <th>2</th>\n",
       "      <td>3</td>\n",
       "      <td>0</td>\n",
       "      <td>1</td>\n",
       "      <td>0</td>\n",
       "      <td>1.0</td>\n",
       "      <td>0</td>\n",
       "      <td>39</td>\n",
       "      <td>11</td>\n",
       "    </tr>\n",
       "    <tr>\n",
       "      <th>3</th>\n",
       "      <td>4</td>\n",
       "      <td>0</td>\n",
       "      <td>2</td>\n",
       "      <td>0</td>\n",
       "      <td>1.3</td>\n",
       "      <td>0</td>\n",
       "      <td>35</td>\n",
       "      <td>100</td>\n",
       "    </tr>\n",
       "    <tr>\n",
       "      <th>4</th>\n",
       "      <td>5</td>\n",
       "      <td>0</td>\n",
       "      <td>2</td>\n",
       "      <td>0</td>\n",
       "      <td>1.0</td>\n",
       "      <td>0</td>\n",
       "      <td>35</td>\n",
       "      <td>45</td>\n",
       "    </tr>\n",
       "    <tr>\n",
       "      <th>5</th>\n",
       "      <td>6</td>\n",
       "      <td>0</td>\n",
       "      <td>2</td>\n",
       "      <td>0</td>\n",
       "      <td>0.4</td>\n",
       "      <td>155</td>\n",
       "      <td>37</td>\n",
       "      <td>29</td>\n",
       "    </tr>\n",
       "    <tr>\n",
       "      <th>6</th>\n",
       "      <td>7</td>\n",
       "      <td>0</td>\n",
       "      <td>2</td>\n",
       "      <td>0</td>\n",
       "      <td>1.5</td>\n",
       "      <td>0</td>\n",
       "      <td>53</td>\n",
       "      <td>72</td>\n",
       "    </tr>\n",
       "    <tr>\n",
       "      <th>7</th>\n",
       "      <td>8</td>\n",
       "      <td>0</td>\n",
       "      <td>3</td>\n",
       "      <td>0</td>\n",
       "      <td>0.3</td>\n",
       "      <td>0</td>\n",
       "      <td>50</td>\n",
       "      <td>22</td>\n",
       "    </tr>\n",
       "    <tr>\n",
       "      <th>8</th>\n",
       "      <td>9</td>\n",
       "      <td>0</td>\n",
       "      <td>2</td>\n",
       "      <td>0</td>\n",
       "      <td>0.6</td>\n",
       "      <td>104</td>\n",
       "      <td>35</td>\n",
       "      <td>81</td>\n",
       "    </tr>\n",
       "    <tr>\n",
       "      <th>9</th>\n",
       "      <td>10</td>\n",
       "      <td>0</td>\n",
       "      <td>3</td>\n",
       "      <td>1</td>\n",
       "      <td>8.9</td>\n",
       "      <td>0</td>\n",
       "      <td>34</td>\n",
       "      <td>180</td>\n",
       "    </tr>\n",
       "  </tbody>\n",
       "</table>\n",
       "</div>"
      ],
      "text/plain": [
       "   ID  CD_Account  Education  Personal_Loan  CCAvg  Mortgage  Age  Income\n",
       "0   1           0          1              0    1.6         0   25      49\n",
       "1   2           0          1              0    1.5         0   45      34\n",
       "2   3           0          1              0    1.0         0   39      11\n",
       "3   4           0          2              0    1.3         0   35     100\n",
       "4   5           0          2              0    1.0         0   35      45\n",
       "5   6           0          2              0    0.4       155   37      29\n",
       "6   7           0          2              0    1.5         0   53      72\n",
       "7   8           0          3              0    0.3         0   50      22\n",
       "8   9           0          2              0    0.6       104   35      81\n",
       "9  10           0          3              1    8.9         0   34     180"
      ]
     },
     "execution_count": 3,
     "metadata": {},
     "output_type": "execute_result"
    }
   ],
   "source": [
    "df = pd.read_csv(\"final_queried_data.csv\")\n",
    "df.head(10)"
   ]
  },
  {
   "cell_type": "code",
   "execution_count": 3,
   "metadata": {},
   "outputs": [
    {
     "data": {
      "text/plain": [
       "40000"
      ]
     },
     "execution_count": 3,
     "metadata": {},
     "output_type": "execute_result"
    }
   ],
   "source": [
    "df.size"
   ]
  },
  {
   "cell_type": "code",
   "execution_count": 4,
   "metadata": {},
   "outputs": [
    {
     "data": {
      "text/plain": [
       "ID               0\n",
       "CD_Account       0\n",
       "Education        0\n",
       "Personal_Loan    0\n",
       "CCAvg            0\n",
       "Mortgage         0\n",
       "Age              0\n",
       "Income           0\n",
       "dtype: int64"
      ]
     },
     "execution_count": 4,
     "metadata": {},
     "output_type": "execute_result"
    }
   ],
   "source": [
    "df.isnull().sum()"
   ]
  },
  {
   "cell_type": "code",
   "execution_count": 5,
   "metadata": {},
   "outputs": [
    {
     "data": {
      "text/plain": [
       "ID                 int64\n",
       "CD_Account         int64\n",
       "Education          int64\n",
       "Personal_Loan      int64\n",
       "CCAvg            float64\n",
       "Mortgage           int64\n",
       "Age                int64\n",
       "Income             int64\n",
       "dtype: object"
      ]
     },
     "execution_count": 5,
     "metadata": {},
     "output_type": "execute_result"
    }
   ],
   "source": [
    "df.dtypes"
   ]
  },
  {
   "cell_type": "code",
   "execution_count": 6,
   "metadata": {},
   "outputs": [],
   "source": [
    "X = df.drop('Personal_Loan', axis=1)\n",
    "y = df['Personal_Loan']\n",
    "X_train, X_test, y_train, y_test = train_test_split(X, y, test_size=0.2, stratify=y, random_state=42)"
   ]
  },
  {
   "cell_type": "code",
   "execution_count": 7,
   "metadata": {},
   "outputs": [
    {
     "data": {
      "image/png": "[encoded data removed]",
      "text/plain": [
       "<Figure size 1200x1000 with 2 Axes>"
      ]
     },
     "metadata": {},
     "output_type": "display_data"
    }
   ],
   "source": [
    "from matplotlib import pyplot as plt\n",
    "import seaborn as sns\n",
    "correlation_matrix = df.corr()\n",
    "plt.figure(figsize=(12, 10))\n",
    "sns.heatmap(correlation_matrix, annot=True, cmap='coolwarm')\n",
    "plt.title('Correlation Matrix')\n",
    "plt.show()"
   ]
  },
  {
   "cell_type": "code",
   "execution_count": 8,
   "metadata": {},
   "outputs": [
    {
     "name": "stdout",
     "output_type": "stream",
     "text": [
      "Personal_Loan\n",
      "0    0.904\n",
      "1    0.096\n",
      "Name: proportion, dtype: float64\n"
     ]
    }
   ],
   "source": [
    "print(df['Personal_Loan'].value_counts(normalize=True))"
   ]
  },
  {
   "cell_type": "code",
   "execution_count": 9,
   "metadata": {},
   "outputs": [
    {
     "data": {
      "image/png": "[encoded data removed]",
      "text/plain": [
       "<Figure size 1200x800 with 4 Axes>"
      ]
     },
     "metadata": {},
     "output_type": "display_data"
    }
   ],
   "source": [
    "continuous_vars = ['CCAvg', 'Mortgage', 'Age', 'Income']\n",
    "df[continuous_vars].hist(figsize=(12, 8))\n",
    "plt.tight_layout()\n",
    "plt.show()"
   ]
  },
  {
   "cell_type": "code",
   "execution_count": 10,
   "metadata": {},
   "outputs": [
    {
     "name": "stdout",
     "output_type": "stream",
     "text": [
      "Train set distribution:\n",
      "Personal_Loan\n",
      "0    0.904\n",
      "1    0.096\n",
      "Name: proportion, dtype: float64\n",
      "\n",
      "Test set distribution:\n",
      "Personal_Loan\n",
      "0    0.904\n",
      "1    0.096\n",
      "Name: proportion, dtype: float64\n"
     ]
    }
   ],
   "source": [
    "print(\"Train set distribution:\")\n",
    "print(y_train.value_counts(normalize=True))\n",
    "print(\"\\nTest set distribution:\")\n",
    "print(y_test.value_counts(normalize=True))"
   ]
  },
  {
   "cell_type": "markdown",
   "metadata": {},
   "source": [
    "## The observations that I made are: \n",
    "### 1. Need to check for duplicates\n",
    "### 2. No need to cap the values the highest values are at their natural state \n",
    "### 3. Need to address the imbalance in the target variable --> the personal loan column is showed as imbalanced, but it is okay because the no. of people having loan is less than that of the people having loans taken, it is much natural to be this way. \n",
    "### 4. There were no missing values as the data was properly filled already \n",
    "### 5. the Nan values are filled using fillna() --> df.mean() was used for this! \n",
    "### apart from all this there were no other observations, the data was all good for the rest of the procedures to be followed"
   ]
  },
  {
   "cell_type": "code",
   "execution_count": 11,
   "metadata": {},
   "outputs": [
    {
     "data": {
      "text/plain": [
       "np.int64(0)"
      ]
     },
     "execution_count": 11,
     "metadata": {},
     "output_type": "execute_result"
    }
   ],
   "source": [
    "\n",
    "num_duplicates = df.duplicated().sum()\n",
    "num_duplicates"
   ]
  },
  {
   "cell_type": "code",
   "execution_count": 6,
   "metadata": {},
   "outputs": [
    {
     "data": {
      "text/plain": [
       "ID               0\n",
       "CD_Account       0\n",
       "Education        0\n",
       "Personal_Loan    0\n",
       "CCAvg            0\n",
       "Mortgage         0\n",
       "Age              0\n",
       "Income           0\n",
       "dtype: int64"
      ]
     },
     "execution_count": 6,
     "metadata": {},
     "output_type": "execute_result"
    }
   ],
   "source": [
    "df.isnull().sum()"
   ]
  },
  {
   "cell_type": "code",
   "execution_count": 14,
   "metadata": {},
   "outputs": [
    {
     "name": "stdout",
     "output_type": "stream",
     "text": [
      "Note: you may need to restart the kernel to use updated packages.\n"
     ]
    },
    {
     "name": "stderr",
     "output_type": "stream",
     "text": [
      "\n",
      "[notice] A new release of pip is available: 24.0 -> 24.3.1\n",
      "[notice] To update, run: python.exe -m pip install --upgrade pip\n"
     ]
    }
   ],
   "source": [
    "pip install -q dagshub mlflow"
   ]
  },
  {
   "cell_type": "code",
   "execution_count": 1,
   "metadata": {},
   "outputs": [
    {
     "data": {
      "text/html": [
       "<pre style=\"white-space:pre;overflow-x:auto;line-height:normal;font-family:Menlo,'DejaVu Sans Mono',consolas,'Courier New',monospace\">Accessing as SomeshBhandarkar\n",
       "</pre>\n"
      ],
      "text/plain": [
       "Accessing as SomeshBhandarkar\n"
      ]
     },
     "metadata": {},
     "output_type": "display_data"
    },
    {
     "data": {
      "text/html": [
       "<pre style=\"white-space:pre;overflow-x:auto;line-height:normal;font-family:Menlo,'DejaVu Sans Mono',consolas,'Courier New',monospace\">Initialized MLflow to track repo <span style=\"color: #008000; text-decoration-color: #008000\">\"SomeshBhandarkar/LoanClassificationProject\"</span>\n",
       "</pre>\n"
      ],
      "text/plain": [
       "Initialized MLflow to track repo \u001b[32m\"SomeshBhandarkar/LoanClassificationProject\"\u001b[0m\n"
      ]
     },
     "metadata": {},
     "output_type": "display_data"
    },
    {
     "data": {
      "text/html": [
       "<pre style=\"white-space:pre;overflow-x:auto;line-height:normal;font-family:Menlo,'DejaVu Sans Mono',consolas,'Courier New',monospace\">Repository SomeshBhandarkar/LoanClassificationProject initialized!\n",
       "</pre>\n"
      ],
      "text/plain": [
       "Repository SomeshBhandarkar/LoanClassificationProject initialized!\n"
      ]
     },
     "metadata": {},
     "output_type": "display_data"
    }
   ],
   "source": [
    "import dagshub\n",
    "dagshub.init(repo_owner='SomeshBhandarkar', repo_name='LoanClassificationProject', mlflow=True)"
   ]
  },
  {
   "cell_type": "code",
   "execution_count": 3,
   "metadata": {},
   "outputs": [],
   "source": [
    "import mlflow\n",
    "import mlflow.sklearn\n",
    "from sklearn.compose import ColumnTransformer\n",
    "from sklearn.pipeline import Pipeline\n",
    "from sklearn.preprocessing import StandardScaler\n",
    "from sklearn.model_selection import cross_validate, GridSearchCV\n",
    "from sklearn.linear_model import LogisticRegression\n",
    "from sklearn.metrics import f1_score, confusion_matrix\n",
    "import warnings\n",
    "warnings.filterwarnings('ignore')"
   ]
  },
  {
   "cell_type": "code",
   "execution_count": 20,
   "metadata": {},
   "outputs": [],
   "source": [
    "X = df.drop(['ID', 'Personal_Loan'], axis=1)\n",
    "y = df['Personal_Loan']\n",
    "\n",
    "pipeline = Pipeline([\n",
    "    ('scaler', StandardScaler()),\n",
    "    ('classifier', LogisticRegression())\n",
    "])\n",
    "\n",
    "param_grid = {\n",
    "    'classifier__C': [0.001, 0.01, 0.1, 1, 10, 100],\n",
    "    'classifier__penalty': ['l1', 'l2'],\n",
    "    'classifier__solver': ['liblinear', 'saga']\n",
    "}"
   ]
  },
  {
   "cell_type": "code",
   "execution_count": 25,
   "metadata": {},
   "outputs": [
    {
     "name": "stderr",
     "output_type": "stream",
     "text": [
      "2024/12/14 21:29:03 INFO mlflow.tracking.fluent: Experiment with name 'Experiment 1: logistic_regression_experiment' does not exist. Creating a new experiment.\n"
     ]
    },
    {
     "data": {
      "text/plain": [
       "<Experiment: artifact_location='mlflow-artifacts:/7bcb5f777d76414c8f88e5e5391fdc79', creation_time=1734229742599, experiment_id='2', last_update_time=1734229742599, lifecycle_stage='active', name='Experiment 1: logistic_regression_experiment', tags={}>"
      ]
     },
     "execution_count": 25,
     "metadata": {},
     "output_type": "execute_result"
    }
   ],
   "source": [
    "mlflow.set_tracking_uri(\"https://dagshub.com/SomeshBhandarkar/LoanClassificationProject.mlflow\")\n",
    "mlflow.set_experiment(\"Experiment 1: logistic_regression_experiment\")"
   ]
  },
  {
   "cell_type": "code",
   "execution_count": 26,
   "metadata": {},
   "outputs": [
    {
     "data": {
      "text/html": [
       "<style>#sk-container-id-2 {\n",
       "  /* Definition of color scheme common for light and dark mode */\n",
       "  --sklearn-color-text: black;\n",
       "  --sklearn-color-line: gray;\n",
       "  /* Definition of color scheme for unfitted estimators */\n",
       "  --sklearn-color-unfitted-level-0: #fff5e6;\n",
       "  --sklearn-color-unfitted-level-1: #f6e4d2;\n",
       "  --sklearn-color-unfitted-level-2: #ffe0b3;\n",
       "  --sklearn-color-unfitted-level-3: chocolate;\n",
       "  /* Definition of color scheme for fitted estimators */\n",
       "  --sklearn-color-fitted-level-0: #f0f8ff;\n",
       "  --sklearn-color-fitted-level-1: #d4ebff;\n",
       "  --sklearn-color-fitted-level-2: #b3dbfd;\n",
       "  --sklearn-color-fitted-level-3: cornflowerblue;\n",
       "\n",
       "  /* Specific color for light theme */\n",
       "  --sklearn-color-text-on-default-background: var(--sg-text-color, var(--theme-code-foreground, var(--jp-content-font-color1, black)));\n",
       "  --sklearn-color-background: var(--sg-background-color, var(--theme-background, var(--jp-layout-color0, white)));\n",
       "  --sklearn-color-border-box: var(--sg-text-color, var(--theme-code-foreground, var(--jp-content-font-color1, black)));\n",
       "  --sklearn-color-icon: #696969;\n",
       "\n",
       "  @media (prefers-color-scheme: dark) {\n",
       "    /* Redefinition of color scheme for dark theme */\n",
       "    --sklearn-color-text-on-default-background: var(--sg-text-color, var(--theme-code-foreground, var(--jp-content-font-color1, white)));\n",
       "    --sklearn-color-background: var(--sg-background-color, var(--theme-background, var(--jp-layout-color0, #111)));\n",
       "    --sklearn-color-border-box: var(--sg-text-color, var(--theme-code-foreground, var(--jp-content-font-color1, white)));\n",
       "    --sklearn-color-icon: #878787;\n",
       "  }\n",
       "}\n",
       "\n",
       "#sk-container-id-2 {\n",
       "  color: var(--sklearn-color-text);\n",
       "}\n",
       "\n",
       "#sk-container-id-2 pre {\n",
       "  padding: 0;\n",
       "}\n",
       "\n",
       "#sk-container-id-2 input.sk-hidden--visually {\n",
       "  border: 0;\n",
       "  clip: rect(1px 1px 1px 1px);\n",
       "  clip: rect(1px, 1px, 1px, 1px);\n",
       "  height: 1px;\n",
       "  margin: -1px;\n",
       "  overflow: hidden;\n",
       "  padding: 0;\n",
       "  position: absolute;\n",
       "  width: 1px;\n",
       "}\n",
       "\n",
       "#sk-container-id-2 div.sk-dashed-wrapped {\n",
       "  border: 1px dashed var(--sklearn-color-line);\n",
       "  margin: 0 0.4em 0.5em 0.4em;\n",
       "  box-sizing: border-box;\n",
       "  padding-bottom: 0.4em;\n",
       "  background-color: var(--sklearn-color-background);\n",
       "}\n",
       "\n",
       "#sk-container-id-2 div.sk-container {\n",
       "  /* jupyter's `normalize.less` sets `[hidden] { display: none; }`\n",
       "     but bootstrap.min.css set `[hidden] { display: none !important; }`\n",
       "     so we also need the `!important` here to be able to override the\n",
       "     default hidden behavior on the sphinx rendered scikit-learn.org.\n",
       "     See: https://github.com/scikit-learn/scikit-learn/issues/21755 */\n",
       "  display: inline-block !important;\n",
       "  position: relative;\n",
       "}\n",
       "\n",
       "#sk-container-id-2 div.sk-text-repr-fallback {\n",
       "  display: none;\n",
       "}\n",
       "\n",
       "div.sk-parallel-item,\n",
       "div.sk-serial,\n",
       "div.sk-item {\n",
       "  /* draw centered vertical line to link estimators */\n",
       "  background-image: linear-gradient(var(--sklearn-color-text-on-default-background), var(--sklearn-color-text-on-default-background));\n",
       "  background-size: 2px 100%;\n",
       "  background-repeat: no-repeat;\n",
       "  background-position: center center;\n",
       "}\n",
       "\n",
       "/* Parallel-specific style estimator block */\n",
       "\n",
       "#sk-container-id-2 div.sk-parallel-item::after {\n",
       "  content: \"\";\n",
       "  width: 100%;\n",
       "  border-bottom: 2px solid var(--sklearn-color-text-on-default-background);\n",
       "  flex-grow: 1;\n",
       "}\n",
       "\n",
       "#sk-container-id-2 div.sk-parallel {\n",
       "  display: flex;\n",
       "  align-items: stretch;\n",
       "  justify-content: center;\n",
       "  background-color: var(--sklearn-color-background);\n",
       "  position: relative;\n",
       "}\n",
       "\n",
       "#sk-container-id-2 div.sk-parallel-item {\n",
       "  display: flex;\n",
       "  flex-direction: column;\n",
       "}\n",
       "\n",
       "#sk-container-id-2 div.sk-parallel-item:first-child::after {\n",
       "  align-self: flex-end;\n",
       "  width: 50%;\n",
       "}\n",
       "\n",
       "#sk-container-id-2 div.sk-parallel-item:last-child::after {\n",
       "  align-self: flex-start;\n",
       "  width: 50%;\n",
       "}\n",
       "\n",
       "#sk-container-id-2 div.sk-parallel-item:only-child::after {\n",
       "  width: 0;\n",
       "}\n",
       "\n",
       "/* Serial-specific style estimator block */\n",
       "\n",
       "#sk-container-id-2 div.sk-serial {\n",
       "  display: flex;\n",
       "  flex-direction: column;\n",
       "  align-items: center;\n",
       "  background-color: var(--sklearn-color-background);\n",
       "  padding-right: 1em;\n",
       "  padding-left: 1em;\n",
       "}\n",
       "\n",
       "\n",
       "/* Toggleable style: style used for estimator/Pipeline/ColumnTransformer box that is\n",
       "clickable and can be expanded/collapsed.\n",
       "- Pipeline and ColumnTransformer use this feature and define the default style\n",
       "- Estimators will overwrite some part of the style using the `sk-estimator` class\n",
       "*/\n",
       "\n",
       "/* Pipeline and ColumnTransformer style (default) */\n",
       "\n",
       "#sk-container-id-2 div.sk-toggleable {\n",
       "  /* Default theme specific background. It is overwritten whether we have a\n",
       "  specific estimator or a Pipeline/ColumnTransformer */\n",
       "  background-color: var(--sklearn-color-background);\n",
       "}\n",
       "\n",
       "/* Toggleable label */\n",
       "#sk-container-id-2 label.sk-toggleable__label {\n",
       "  cursor: pointer;\n",
       "  display: block;\n",
       "  width: 100%;\n",
       "  margin-bottom: 0;\n",
       "  padding: 0.5em;\n",
       "  box-sizing: border-box;\n",
       "  text-align: center;\n",
       "}\n",
       "\n",
       "#sk-container-id-2 label.sk-toggleable__label-arrow:before {\n",
       "  /* Arrow on the left of the label */\n",
       "  content: \"▸\";\n",
       "  float: left;\n",
       "  margin-right: 0.25em;\n",
       "  color: var(--sklearn-color-icon);\n",
       "}\n",
       "\n",
       "#sk-container-id-2 label.sk-toggleable__label-arrow:hover:before {\n",
       "  color: var(--sklearn-color-text);\n",
       "}\n",
       "\n",
       "/* Toggleable content - dropdown */\n",
       "\n",
       "#sk-container-id-2 div.sk-toggleable__content {\n",
       "  max-height: 0;\n",
       "  max-width: 0;\n",
       "  overflow: hidden;\n",
       "  text-align: left;\n",
       "  /* unfitted */\n",
       "  background-color: var(--sklearn-color-unfitted-level-0);\n",
       "}\n",
       "\n",
       "#sk-container-id-2 div.sk-toggleable__content.fitted {\n",
       "  /* fitted */\n",
       "  background-color: var(--sklearn-color-fitted-level-0);\n",
       "}\n",
       "\n",
       "#sk-container-id-2 div.sk-toggleable__content pre {\n",
       "  margin: 0.2em;\n",
       "  border-radius: 0.25em;\n",
       "  color: var(--sklearn-color-text);\n",
       "  /* unfitted */\n",
       "  background-color: var(--sklearn-color-unfitted-level-0);\n",
       "}\n",
       "\n",
       "#sk-container-id-2 div.sk-toggleable__content.fitted pre {\n",
       "  /* unfitted */\n",
       "  background-color: var(--sklearn-color-fitted-level-0);\n",
       "}\n",
       "\n",
       "#sk-container-id-2 input.sk-toggleable__control:checked~div.sk-toggleable__content {\n",
       "  /* Expand drop-down */\n",
       "  max-height: 200px;\n",
       "  max-width: 100%;\n",
       "  overflow: auto;\n",
       "}\n",
       "\n",
       "#sk-container-id-2 input.sk-toggleable__control:checked~label.sk-toggleable__label-arrow:before {\n",
       "  content: \"▾\";\n",
       "}\n",
       "\n",
       "/* Pipeline/ColumnTransformer-specific style */\n",
       "\n",
       "#sk-container-id-2 div.sk-label input.sk-toggleable__control:checked~label.sk-toggleable__label {\n",
       "  color: var(--sklearn-color-text);\n",
       "  background-color: var(--sklearn-color-unfitted-level-2);\n",
       "}\n",
       "\n",
       "#sk-container-id-2 div.sk-label.fitted input.sk-toggleable__control:checked~label.sk-toggleable__label {\n",
       "  background-color: var(--sklearn-color-fitted-level-2);\n",
       "}\n",
       "\n",
       "/* Estimator-specific style */\n",
       "\n",
       "/* Colorize estimator box */\n",
       "#sk-container-id-2 div.sk-estimator input.sk-toggleable__control:checked~label.sk-toggleable__label {\n",
       "  /* unfitted */\n",
       "  background-color: var(--sklearn-color-unfitted-level-2);\n",
       "}\n",
       "\n",
       "#sk-container-id-2 div.sk-estimator.fitted input.sk-toggleable__control:checked~label.sk-toggleable__label {\n",
       "  /* fitted */\n",
       "  background-color: var(--sklearn-color-fitted-level-2);\n",
       "}\n",
       "\n",
       "#sk-container-id-2 div.sk-label label.sk-toggleable__label,\n",
       "#sk-container-id-2 div.sk-label label {\n",
       "  /* The background is the default theme color */\n",
       "  color: var(--sklearn-color-text-on-default-background);\n",
       "}\n",
       "\n",
       "/* On hover, darken the color of the background */\n",
       "#sk-container-id-2 div.sk-label:hover label.sk-toggleable__label {\n",
       "  color: var(--sklearn-color-text);\n",
       "  background-color: var(--sklearn-color-unfitted-level-2);\n",
       "}\n",
       "\n",
       "/* Label box, darken color on hover, fitted */\n",
       "#sk-container-id-2 div.sk-label.fitted:hover label.sk-toggleable__label.fitted {\n",
       "  color: var(--sklearn-color-text);\n",
       "  background-color: var(--sklearn-color-fitted-level-2);\n",
       "}\n",
       "\n",
       "/* Estimator label */\n",
       "\n",
       "#sk-container-id-2 div.sk-label label {\n",
       "  font-family: monospace;\n",
       "  font-weight: bold;\n",
       "  display: inline-block;\n",
       "  line-height: 1.2em;\n",
       "}\n",
       "\n",
       "#sk-container-id-2 div.sk-label-container {\n",
       "  text-align: center;\n",
       "}\n",
       "\n",
       "/* Estimator-specific */\n",
       "#sk-container-id-2 div.sk-estimator {\n",
       "  font-family: monospace;\n",
       "  border: 1px dotted var(--sklearn-color-border-box);\n",
       "  border-radius: 0.25em;\n",
       "  box-sizing: border-box;\n",
       "  margin-bottom: 0.5em;\n",
       "  /* unfitted */\n",
       "  background-color: var(--sklearn-color-unfitted-level-0);\n",
       "}\n",
       "\n",
       "#sk-container-id-2 div.sk-estimator.fitted {\n",
       "  /* fitted */\n",
       "  background-color: var(--sklearn-color-fitted-level-0);\n",
       "}\n",
       "\n",
       "/* on hover */\n",
       "#sk-container-id-2 div.sk-estimator:hover {\n",
       "  /* unfitted */\n",
       "  background-color: var(--sklearn-color-unfitted-level-2);\n",
       "}\n",
       "\n",
       "#sk-container-id-2 div.sk-estimator.fitted:hover {\n",
       "  /* fitted */\n",
       "  background-color: var(--sklearn-color-fitted-level-2);\n",
       "}\n",
       "\n",
       "/* Specification for estimator info (e.g. \"i\" and \"?\") */\n",
       "\n",
       "/* Common style for \"i\" and \"?\" */\n",
       "\n",
       ".sk-estimator-doc-link,\n",
       "a:link.sk-estimator-doc-link,\n",
       "a:visited.sk-estimator-doc-link {\n",
       "  float: right;\n",
       "  font-size: smaller;\n",
       "  line-height: 1em;\n",
       "  font-family: monospace;\n",
       "  background-color: var(--sklearn-color-background);\n",
       "  border-radius: 1em;\n",
       "  height: 1em;\n",
       "  width: 1em;\n",
       "  text-decoration: none !important;\n",
       "  margin-left: 1ex;\n",
       "  /* unfitted */\n",
       "  border: var(--sklearn-color-unfitted-level-1) 1pt solid;\n",
       "  color: var(--sklearn-color-unfitted-level-1);\n",
       "}\n",
       "\n",
       ".sk-estimator-doc-link.fitted,\n",
       "a:link.sk-estimator-doc-link.fitted,\n",
       "a:visited.sk-estimator-doc-link.fitted {\n",
       "  /* fitted */\n",
       "  border: var(--sklearn-color-fitted-level-1) 1pt solid;\n",
       "  color: var(--sklearn-color-fitted-level-1);\n",
       "}\n",
       "\n",
       "/* On hover */\n",
       "div.sk-estimator:hover .sk-estimator-doc-link:hover,\n",
       ".sk-estimator-doc-link:hover,\n",
       "div.sk-label-container:hover .sk-estimator-doc-link:hover,\n",
       ".sk-estimator-doc-link:hover {\n",
       "  /* unfitted */\n",
       "  background-color: var(--sklearn-color-unfitted-level-3);\n",
       "  color: var(--sklearn-color-background);\n",
       "  text-decoration: none;\n",
       "}\n",
       "\n",
       "div.sk-estimator.fitted:hover .sk-estimator-doc-link.fitted:hover,\n",
       ".sk-estimator-doc-link.fitted:hover,\n",
       "div.sk-label-container:hover .sk-estimator-doc-link.fitted:hover,\n",
       ".sk-estimator-doc-link.fitted:hover {\n",
       "  /* fitted */\n",
       "  background-color: var(--sklearn-color-fitted-level-3);\n",
       "  color: var(--sklearn-color-background);\n",
       "  text-decoration: none;\n",
       "}\n",
       "\n",
       "/* Span, style for the box shown on hovering the info icon */\n",
       ".sk-estimator-doc-link span {\n",
       "  display: none;\n",
       "  z-index: 9999;\n",
       "  position: relative;\n",
       "  font-weight: normal;\n",
       "  right: .2ex;\n",
       "  padding: .5ex;\n",
       "  margin: .5ex;\n",
       "  width: min-content;\n",
       "  min-width: 20ex;\n",
       "  max-width: 50ex;\n",
       "  color: var(--sklearn-color-text);\n",
       "  box-shadow: 2pt 2pt 4pt #999;\n",
       "  /* unfitted */\n",
       "  background: var(--sklearn-color-unfitted-level-0);\n",
       "  border: .5pt solid var(--sklearn-color-unfitted-level-3);\n",
       "}\n",
       "\n",
       ".sk-estimator-doc-link.fitted span {\n",
       "  /* fitted */\n",
       "  background: var(--sklearn-color-fitted-level-0);\n",
       "  border: var(--sklearn-color-fitted-level-3);\n",
       "}\n",
       "\n",
       ".sk-estimator-doc-link:hover span {\n",
       "  display: block;\n",
       "}\n",
       "\n",
       "/* \"?\"-specific style due to the `<a>` HTML tag */\n",
       "\n",
       "#sk-container-id-2 a.estimator_doc_link {\n",
       "  float: right;\n",
       "  font-size: 1rem;\n",
       "  line-height: 1em;\n",
       "  font-family: monospace;\n",
       "  background-color: var(--sklearn-color-background);\n",
       "  border-radius: 1rem;\n",
       "  height: 1rem;\n",
       "  width: 1rem;\n",
       "  text-decoration: none;\n",
       "  /* unfitted */\n",
       "  color: var(--sklearn-color-unfitted-level-1);\n",
       "  border: var(--sklearn-color-unfitted-level-1) 1pt solid;\n",
       "}\n",
       "\n",
       "#sk-container-id-2 a.estimator_doc_link.fitted {\n",
       "  /* fitted */\n",
       "  border: var(--sklearn-color-fitted-level-1) 1pt solid;\n",
       "  color: var(--sklearn-color-fitted-level-1);\n",
       "}\n",
       "\n",
       "/* On hover */\n",
       "#sk-container-id-2 a.estimator_doc_link:hover {\n",
       "  /* unfitted */\n",
       "  background-color: var(--sklearn-color-unfitted-level-3);\n",
       "  color: var(--sklearn-color-background);\n",
       "  text-decoration: none;\n",
       "}\n",
       "\n",
       "#sk-container-id-2 a.estimator_doc_link.fitted:hover {\n",
       "  /* fitted */\n",
       "  background-color: var(--sklearn-color-fitted-level-3);\n",
       "}\n",
       "</style><div id=\"sk-container-id-2\" class=\"sk-top-container\"><div class=\"sk-text-repr-fallback\"><pre>GridSearchCV(cv=3,\n",
       "             estimator=Pipeline(steps=[(&#x27;scaler&#x27;, StandardScaler()),\n",
       "                                       (&#x27;classifier&#x27;, LogisticRegression())]),\n",
       "             param_grid={&#x27;classifier__C&#x27;: [0.001, 0.01, 0.1, 1, 10, 100],\n",
       "                         &#x27;classifier__penalty&#x27;: [&#x27;l1&#x27;, &#x27;l2&#x27;],\n",
       "                         &#x27;classifier__solver&#x27;: [&#x27;liblinear&#x27;, &#x27;saga&#x27;]},\n",
       "             scoring=&#x27;f1&#x27;)</pre><b>In a Jupyter environment, please rerun this cell to show the HTML representation or trust the notebook. <br />On GitHub, the HTML representation is unable to render, please try loading this page with nbviewer.org.</b></div><div class=\"sk-container\" hidden><div class=\"sk-item sk-dashed-wrapped\"><div class=\"sk-label-container\"><div class=\"sk-label fitted sk-toggleable\"><input class=\"sk-toggleable__control sk-hidden--visually\" id=\"sk-estimator-id-5\" type=\"checkbox\" ><label for=\"sk-estimator-id-5\" class=\"sk-toggleable__label fitted sk-toggleable__label-arrow fitted\">&nbsp;&nbsp;GridSearchCV<a class=\"sk-estimator-doc-link fitted\" rel=\"noreferrer\" target=\"_blank\" href=\"https://scikit-learn.org/1.5/modules/generated/sklearn.model_selection.GridSearchCV.html\">?<span>Documentation for GridSearchCV</span></a><span class=\"sk-estimator-doc-link fitted\">i<span>Fitted</span></span></label><div class=\"sk-toggleable__content fitted\"><pre>GridSearchCV(cv=3,\n",
       "             estimator=Pipeline(steps=[(&#x27;scaler&#x27;, StandardScaler()),\n",
       "                                       (&#x27;classifier&#x27;, LogisticRegression())]),\n",
       "             param_grid={&#x27;classifier__C&#x27;: [0.001, 0.01, 0.1, 1, 10, 100],\n",
       "                         &#x27;classifier__penalty&#x27;: [&#x27;l1&#x27;, &#x27;l2&#x27;],\n",
       "                         &#x27;classifier__solver&#x27;: [&#x27;liblinear&#x27;, &#x27;saga&#x27;]},\n",
       "             scoring=&#x27;f1&#x27;)</pre></div> </div></div><div class=\"sk-parallel\"><div class=\"sk-parallel-item\"><div class=\"sk-item\"><div class=\"sk-label-container\"><div class=\"sk-label fitted sk-toggleable\"><input class=\"sk-toggleable__control sk-hidden--visually\" id=\"sk-estimator-id-6\" type=\"checkbox\" ><label for=\"sk-estimator-id-6\" class=\"sk-toggleable__label fitted sk-toggleable__label-arrow fitted\">best_estimator_: Pipeline</label><div class=\"sk-toggleable__content fitted\"><pre>Pipeline(steps=[(&#x27;scaler&#x27;, StandardScaler()),\n",
       "                (&#x27;classifier&#x27;,\n",
       "                 LogisticRegression(C=10, penalty=&#x27;l1&#x27;, solver=&#x27;liblinear&#x27;))])</pre></div> </div></div><div class=\"sk-serial\"><div class=\"sk-item\"><div class=\"sk-serial\"><div class=\"sk-item\"><div class=\"sk-estimator fitted sk-toggleable\"><input class=\"sk-toggleable__control sk-hidden--visually\" id=\"sk-estimator-id-7\" type=\"checkbox\" ><label for=\"sk-estimator-id-7\" class=\"sk-toggleable__label fitted sk-toggleable__label-arrow fitted\">&nbsp;StandardScaler<a class=\"sk-estimator-doc-link fitted\" rel=\"noreferrer\" target=\"_blank\" href=\"https://scikit-learn.org/1.5/modules/generated/sklearn.preprocessing.StandardScaler.html\">?<span>Documentation for StandardScaler</span></a></label><div class=\"sk-toggleable__content fitted\"><pre>StandardScaler()</pre></div> </div></div><div class=\"sk-item\"><div class=\"sk-estimator fitted sk-toggleable\"><input class=\"sk-toggleable__control sk-hidden--visually\" id=\"sk-estimator-id-8\" type=\"checkbox\" ><label for=\"sk-estimator-id-8\" class=\"sk-toggleable__label fitted sk-toggleable__label-arrow fitted\">&nbsp;LogisticRegression<a class=\"sk-estimator-doc-link fitted\" rel=\"noreferrer\" target=\"_blank\" href=\"https://scikit-learn.org/1.5/modules/generated/sklearn.linear_model.LogisticRegression.html\">?<span>Documentation for LogisticRegression</span></a></label><div class=\"sk-toggleable__content fitted\"><pre>LogisticRegression(C=10, penalty=&#x27;l1&#x27;, solver=&#x27;liblinear&#x27;)</pre></div> </div></div></div></div></div></div></div></div></div></div></div>"
      ],
      "text/plain": [
       "GridSearchCV(cv=3,\n",
       "             estimator=Pipeline(steps=[('scaler', StandardScaler()),\n",
       "                                       ('classifier', LogisticRegression())]),\n",
       "             param_grid={'classifier__C': [0.001, 0.01, 0.1, 1, 10, 100],\n",
       "                         'classifier__penalty': ['l1', 'l2'],\n",
       "                         'classifier__solver': ['liblinear', 'saga']},\n",
       "             scoring='f1')"
      ]
     },
     "execution_count": 26,
     "metadata": {},
     "output_type": "execute_result"
    }
   ],
   "source": [
    "grid_search = GridSearchCV(pipeline, param_grid, cv=3, scoring='f1')\n",
    "grid_search.fit(X, y)"
   ]
  },
  {
   "cell_type": "markdown",
   "metadata": {},
   "source": [
    "## CROSS VALIDATION TECHNIQUE --> \n",
    "### Dual Cross-Validation Strategy\n",
    "###   -> The code uses two different CV approaches for specific purposes:\n",
    "###   1. CV-3 for Hyperparameter Tuning\n",
    "####    -> Used with GridSearchCV for hyperparameter optimization\n",
    "####    -> Fewer folds reduce computational cost during the intensive parameter search\n",
    "####    -> Provides a good balance between training time and model validation\n",
    "###    2. CV-10 for Final Model Evaluation\n",
    "####    -> Used to evaluate the model with best parameters\n",
    "####    -> More folds provide a more robust estimate of model performance\n",
    "####    -> Reduces variance in performance estimates\n",
    "####    -> Gives better insight into model's generalization ability\n",
    "####    -> This dual approach optimizes both computational efficiency during tuning and statistical reliability in final evaluation."
   ]
  },
  {
   "cell_type": "code",
   "execution_count": 27,
   "metadata": {},
   "outputs": [
    {
     "name": "stderr",
     "output_type": "stream",
     "text": [
      "2024/12/14 21:29:43 WARNING mlflow.models.model: Model logged without a signature and input example. Please set `input_example` parameter when logging the model to auto infer the model signature.\n"
     ]
    },
    {
     "name": "stdout",
     "output_type": "stream",
     "text": [
      "🏃 View run rare-wren-530 at: https://dagshub.com/SomeshBhandarkar/LoanClassificationProject.mlflow/#/experiments/2/runs/84d226d7f1bd4c6c863adbe6717b8813\n",
      "🧪 View experiment at: https://dagshub.com/SomeshBhandarkar/LoanClassificationProject.mlflow/#/experiments/2\n",
      "------------------------------------------------------------\n",
      "Best parameters: {'classifier__C': 10, 'classifier__penalty': 'l1', 'classifier__solver': 'liblinear'}\n",
      "Mean CV F1-score: 0.675907405167753\n",
      "Std CV F1-score: 0.05407989232639325\n",
      "F1-score on whole data: 0.6770708283313326\n",
      "Confusion matrix: [np.int64(4449), np.int64(71), np.int64(198), np.int64(282)]\n"
     ]
    }
   ],
   "source": [
    "with mlflow.start_run():\n",
    "    mlflow.log_params(grid_search.best_params_)\n",
    "\n",
    "    cv_scores = cross_val_score(grid_search.best_estimator_, X, y, cv=10, scoring='f1')\n",
    "\n",
    "    mlflow.log_metric(\"cv_f1_mean\", cv_scores.mean())\n",
    "    mlflow.log_metric(\"cv_f1_std\", cv_scores.std())\n",
    "\n",
    "    grid_search.best_estimator_.fit(X, y)\n",
    "    y_pred = grid_search.best_estimator_.predict(X)\n",
    "\n",
    "    f1 = f1_score(y, y_pred)\n",
    "    tn, fp, fn, tp = confusion_matrix(y, y_pred).ravel()\n",
    "\n",
    "    mlflow.log_metric(\"f1_score\", f1)\n",
    "    mlflow.log_metric(\"true_positives\", tp)\n",
    "    mlflow.log_metric(\"true_negatives\", tn)\n",
    "    mlflow.log_metric(\"false_positives\", fp)\n",
    "    mlflow.log_metric(\"false_negatives\", fn)\n",
    "\n",
    "    mlflow.sklearn.log_model(grid_search.best_estimator_, \"model\")\n",
    "\n",
    "print(\"------------------------------------------------------------\")\n",
    "print(\"Best parameters:\", grid_search.best_params_)\n",
    "print(\"Mean CV F1-score:\", cv_scores.mean())\n",
    "print(\"Std CV F1-score:\", cv_scores.std())\n",
    "print(\"F1-score on whole data:\", f1)\n",
    "print(\"Confusion matrix:\", [tn, fp, fn, tp])"
   ]
  },
  {
   "cell_type": "markdown",
   "metadata": {},
   "source": [
    "## Experiment 2 --> "
   ]
  },
  {
   "cell_type": "code",
   "execution_count": 28,
   "metadata": {},
   "outputs": [],
   "source": [
    "pipelines = {\n",
    "    'LogisticRegression': Pipeline([\n",
    "        ('scaler', StandardScaler()),\n",
    "        ('classifier', LogisticRegression())\n",
    "    ]),\n",
    "    'RidgeClassifier': Pipeline([\n",
    "        ('scaler', StandardScaler()),\n",
    "        ('classifier', RidgeClassifier())\n",
    "    ]),\n",
    "    'RandomForestClassifier': Pipeline([\n",
    "        ('scaler', StandardScaler()),\n",
    "        ('classifier', RandomForestClassifier())\n",
    "    ]),\n",
    "    'XGBClassifier': Pipeline([\n",
    "        ('scaler', StandardScaler()),\n",
    "        ('classifier', XGBClassifier())\n",
    "    ])\n",
    "}"
   ]
  },
  {
   "cell_type": "code",
   "execution_count": 29,
   "metadata": {},
   "outputs": [],
   "source": [
    "param_grids = {\n",
    "    'LogisticRegression': {\n",
    "        'classifier__C': [0.001, 0.01, 0.1, 1, 10, 100],\n",
    "        'classifier__penalty': ['l1', 'l2'],\n",
    "        'classifier__solver': ['liblinear', 'saga']\n",
    "    },\n",
    "    'RidgeClassifier': {\n",
    "        'classifier__alpha': [0.1, 1.0, 10.0],\n",
    "        'classifier__solver': ['auto', 'svd', 'cholesky', 'lsqr', 'sparse_cg', 'sag', 'saga']\n",
    "    },\n",
    "    'RandomForestClassifier': {\n",
    "        'classifier__n_estimators': [50, 100, 200],\n",
    "        'classifier__max_depth': [None, 10, 20, 30],\n",
    "        'classifier__min_samples_split': [2, 5, 10]\n",
    "    },\n",
    "    'XGBClassifier': {\n",
    "        'classifier__n_estimators': [50, 100, 200],\n",
    "        'classifier__max_depth': [3, 5, 7],\n",
    "        'classifier__learning_rate': [0.01, 0.1, 0.3]\n",
    "    }\n",
    "}"
   ]
  },
  {
   "cell_type": "code",
   "execution_count": null,
   "metadata": {},
   "outputs": [
    {
     "name": "stderr",
     "output_type": "stream",
     "text": [
      "2024/12/14 21:34:19 INFO mlflow.tracking.fluent: Experiment with name 'Experiment 2: Multiple Classifiers' does not exist. Creating a new experiment.\n"
     ]
    },
    {
     "data": {
      "text/plain": [
       "<Experiment: artifact_location='mlflow-artifacts:/df78203ba9c842248499744b95c427ac', creation_time=1734230058605, experiment_id='3', last_update_time=1734230058605, lifecycle_stage='active', name='Experiment 2: Multiple Classifiers', tags={}>"
      ]
     },
     "execution_count": 31,
     "metadata": {},
     "output_type": "execute_result"
    }
   ],
   "source": [
    "mlflow.set_tracking_uri(\"https://dagshub.com/SomeshBhandarkar/LoanClassificationProject.mlflow\")\n",
    "mlflow.set_experiment(\"Experiment 2: Multiple Classifiers\")"
   ]
  },
  {
   "cell_type": "code",
   "execution_count": 33,
   "metadata": {},
   "outputs": [
    {
     "name": "stderr",
     "output_type": "stream",
     "text": [
      "2024/12/14 21:49:45 WARNING mlflow.models.model: Model logged without a signature and input example. Please set `input_example` parameter when logging the model to auto infer the model signature.\n"
     ]
    },
    {
     "name": "stdout",
     "output_type": "stream",
     "text": [
      "\n",
      "Results for LogisticRegression:\n",
      "Best parameters: {'classifier__C': 10, 'classifier__penalty': 'l1', 'classifier__solver': 'liblinear'}\n",
      "Mean CV F1-score: 0.6680763414890099\n",
      "Std CV F1-score: 0.05538817072285303\n",
      "F1-score on test data: 0.7052023121387283\n",
      "Confusion matrix: [np.int64(888), np.int64(16), np.int64(35), np.int64(61)]\n",
      "R² score (train): 0.3921690634218289\n",
      "R² score (test): 0.4123340707964601\n",
      "MSE: 0.051\n",
      "RMSE: 0.22583179581272428\n",
      "--------------------------------------------------\n",
      "🏃 View run LogisticRegression at: https://dagshub.com/SomeshBhandarkar/LoanClassificationProject.mlflow/#/experiments/3/runs/b52989a2b94d44ef97188af3b5fbad26\n",
      "🧪 View experiment at: https://dagshub.com/SomeshBhandarkar/LoanClassificationProject.mlflow/#/experiments/3\n"
     ]
    },
    {
     "name": "stderr",
     "output_type": "stream",
     "text": [
      "2024/12/14 21:50:06 WARNING mlflow.models.model: Model logged without a signature and input example. Please set `input_example` parameter when logging the model to auto infer the model signature.\n"
     ]
    },
    {
     "name": "stdout",
     "output_type": "stream",
     "text": [
      "\n",
      "Results for RidgeClassifier:\n",
      "Best parameters: {'classifier__alpha': 0.1, 'classifier__solver': 'auto'}\n",
      "Mean CV F1-score: 0.47591046742279997\n",
      "Std CV F1-score: 0.06879731371389858\n",
      "F1-score on test data: 0.3709677419354839\n",
      "Confusion matrix: [np.int64(899), np.int64(5), np.int64(73), np.int64(23)]\n",
      "R² score (train): 0.20780328171091433\n",
      "R² score (test): 0.10121681415929196\n",
      "MSE: 0.078\n",
      "RMSE: 0.2792848008753788\n",
      "--------------------------------------------------\n",
      "🏃 View run RidgeClassifier at: https://dagshub.com/SomeshBhandarkar/LoanClassificationProject.mlflow/#/experiments/3/runs/c8caba0f1ef7461eb2f70c88cdb2dbba\n",
      "🧪 View experiment at: https://dagshub.com/SomeshBhandarkar/LoanClassificationProject.mlflow/#/experiments/3\n"
     ]
    },
    {
     "name": "stderr",
     "output_type": "stream",
     "text": [
      "2024/12/14 21:50:46 WARNING mlflow.models.model: Model logged without a signature and input example. Please set `input_example` parameter when logging the model to auto infer the model signature.\n"
     ]
    },
    {
     "name": "stdout",
     "output_type": "stream",
     "text": [
      "\n",
      "Results for RandomForestClassifier:\n",
      "Best parameters: {'classifier__max_depth': 30, 'classifier__min_samples_split': 2, 'classifier__n_estimators': 50}\n",
      "Mean CV F1-score: 0.8259409954309114\n",
      "Std CV F1-score: 0.04109290795918442\n",
      "F1-score on test data: 0.850828729281768\n",
      "Confusion matrix: [np.int64(896), np.int64(8), np.int64(19), np.int64(77)]\n",
      "R² score (train): 0.9971192846607669\n",
      "R² score (test): 0.6888827433628318\n",
      "MSE: 0.027\n",
      "RMSE: 0.16431676725154984\n",
      "--------------------------------------------------\n",
      "🏃 View run RandomForestClassifier at: https://dagshub.com/SomeshBhandarkar/LoanClassificationProject.mlflow/#/experiments/3/runs/f64c314064e246cca5235d1f9a3f73aa\n",
      "🧪 View experiment at: https://dagshub.com/SomeshBhandarkar/LoanClassificationProject.mlflow/#/experiments/3\n"
     ]
    },
    {
     "name": "stderr",
     "output_type": "stream",
     "text": [
      "2024/12/14 21:51:06 WARNING mlflow.models.model: Model logged without a signature and input example. Please set `input_example` parameter when logging the model to auto infer the model signature.\n"
     ]
    },
    {
     "name": "stdout",
     "output_type": "stream",
     "text": [
      "\n",
      "Results for XGBClassifier:\n",
      "Best parameters: {'classifier__learning_rate': 0.1, 'classifier__max_depth': 5, 'classifier__n_estimators': 100}\n",
      "Mean CV F1-score: 0.8403642848556115\n",
      "Std CV F1-score: 0.04707775826878988\n",
      "F1-score on test data: 0.8648648648648649\n",
      "Confusion matrix: [np.int64(895), np.int64(9), np.int64(16), np.int64(80)]\n",
      "R² score (train): 0.8444413716814159\n",
      "R² score (test): 0.7119284660766961\n",
      "MSE: 0.025\n",
      "RMSE: 0.15811388300841897\n",
      "--------------------------------------------------\n",
      "🏃 View run XGBClassifier at: https://dagshub.com/SomeshBhandarkar/LoanClassificationProject.mlflow/#/experiments/3/runs/f11c059211c84729810a6208448d1137\n",
      "🧪 View experiment at: https://dagshub.com/SomeshBhandarkar/LoanClassificationProject.mlflow/#/experiments/3\n"
     ]
    }
   ],
   "source": [
    "from sklearn.metrics import f1_score, confusion_matrix, mean_squared_error, r2_score\n",
    "for clf_name, pipeline in pipelines.items():\n",
    "    with mlflow.start_run(run_name=clf_name):\n",
    "        grid_search = GridSearchCV(pipeline, param_grids[clf_name], cv=3, scoring='f1')\n",
    "        grid_search.fit(X_train, y_train)\n",
    "        \n",
    "        mlflow.log_params(grid_search.best_params_)\n",
    "\n",
    "        y_pred = grid_search.predict(X_test)\n",
    "        y_pred_train = grid_search.predict(X_train)\n",
    "\n",
    "        f1 = f1_score(y_test, y_pred)\n",
    "        tn, fp, fn, tp = confusion_matrix(y_test, y_pred).ravel()\n",
    "\n",
    "        r2_train = r2_score(y_train, y_pred_train)\n",
    "        r2_test = r2_score(y_test, y_pred)\n",
    "        mse = mean_squared_error(y_test, y_pred)\n",
    "        rmse = np.sqrt(mse)\n",
    "\n",
    "        mlflow.log_metric(\"f1_score\", f1)\n",
    "        mlflow.log_metric(\"true_positives\", tp)\n",
    "        mlflow.log_metric(\"true_negatives\", tn)\n",
    "        mlflow.log_metric(\"false_positives\", fp)\n",
    "        mlflow.log_metric(\"false_negatives\", fn)\n",
    "        mlflow.log_metric(\"r2_train\", r2_train)\n",
    "        mlflow.log_metric(\"r2_test\", r2_test)\n",
    "        mlflow.log_metric(\"mse\", mse)\n",
    "        mlflow.log_metric(\"rmse\", rmse)\n",
    "\n",
    "        cv_scores = cross_val_score(grid_search.best_estimator_, X_train, y_train, cv=10, scoring='f1')\n",
    "\n",
    "        mlflow.log_metric(\"cv_f1_mean\", cv_scores.mean())\n",
    "        mlflow.log_metric(\"cv_f1_std\", cv_scores.std())\n",
    "\n",
    "        mlflow.sklearn.log_model(grid_search.best_estimator_, \"model\")\n",
    "        \n",
    "        print(f\"\\nResults for {clf_name}:\")\n",
    "        print(\"Best parameters:\", grid_search.best_params_)\n",
    "        print(\"Mean CV F1-score:\", cv_scores.mean())\n",
    "        print(\"Std CV F1-score:\", cv_scores.std())\n",
    "        print(\"F1-score on test data:\", f1)\n",
    "        print(\"Confusion matrix:\", [tn, fp, fn, tp])\n",
    "        print(\"R² score (train):\", r2_train)\n",
    "        print(\"R² score (test):\", r2_test)\n",
    "        print(\"MSE:\", mse)\n",
    "        print(\"RMSE:\", rmse)\n",
    "        print(\"-\" * 50)"
   ]
  },
  {
   "cell_type": "markdown",
   "metadata": {},
   "source": [
    "### Experiment 3: "
   ]
  },
  {
   "cell_type": "code",
   "execution_count": 19,
   "metadata": {},
   "outputs": [],
   "source": [
    "def create_features(df):\n",
    "\n",
    "    df['Age_Income_Ratio'] = df['Age'] / df['Income']\n",
    "    df['CCAvg_Income_Ratio'] = df['CCAvg'] / df['Income']\n",
    "    df['Mortgage_Income_Ratio'] = df['Mortgage'] / df['Income']\n",
    "\n",
    "    df['Age_Squared'] = df['Age'] ** 2\n",
    "    df['Income_Squared'] = df['Income'] ** 2\n",
    "    df['CCAvg_Squared'] = df['CCAvg'] ** 2\n",
    "    \n",
    "    return df"
   ]
  },
  {
   "cell_type": "code",
   "execution_count": 20,
   "metadata": {},
   "outputs": [],
   "source": [
    "data = create_features(df)\n",
    "X = data.drop(['ID', 'Personal_Loan'], axis=1)\n",
    "y = data['Personal_Loan']\n",
    "\n",
    "scaler = StandardScaler()\n",
    "X_scaled = scaler.fit_transform(X)\n",
    "X_scaled_df = pd.DataFrame(X_scaled, columns=X.columns)\n",
    "X_train, X_test, y_train, y_test = train_test_split(X, y, test_size=0.2, stratify=y, random_state=42)"
   ]
  },
  {
   "cell_type": "code",
   "execution_count": 40,
   "metadata": {},
   "outputs": [],
   "source": [
    "pipelines = {\n",
    "    'LogisticRegression': Pipeline([\n",
    "        ('scaler', StandardScaler()),\n",
    "        ('classifier', LogisticRegression())\n",
    "    ]),\n",
    "    'RidgeClassifier': Pipeline([\n",
    "        ('scaler', StandardScaler()),\n",
    "        ('classifier', RidgeClassifier())\n",
    "    ]),\n",
    "    'RandomForestClassifier': Pipeline([\n",
    "        ('scaler', StandardScaler()),\n",
    "        ('classifier', RandomForestClassifier())\n",
    "    ]),\n",
    "    'XGBClassifier': Pipeline([\n",
    "        ('scaler', StandardScaler()),\n",
    "        ('classifier', XGBClassifier())\n",
    "    ])\n",
    "}"
   ]
  },
  {
   "cell_type": "code",
   "execution_count": 41,
   "metadata": {},
   "outputs": [],
   "source": [
    "param_grids = {\n",
    "    'LogisticRegression': {\n",
    "        'classifier__C': [0.001, 0.01, 0.1, 1, 10],\n",
    "        'classifier__penalty': ['l1', 'l2'],\n",
    "        'classifier__solver': ['liblinear', 'saga']\n",
    "    },\n",
    "    'RidgeClassifier': {\n",
    "        'classifier__alpha': [0.1, 1.0, 10.0],\n",
    "        'classifier__solver': ['auto', 'svd', 'cholesky']\n",
    "    },\n",
    "    'RandomForestClassifier': {\n",
    "        'classifier__n_estimators': [100, 200],\n",
    "        'classifier__max_depth': [10, 20, None],\n",
    "        'classifier__min_samples_split': [2, 5]\n",
    "    },\n",
    "    'XGBClassifier': {\n",
    "        'classifier__n_estimators': [100, 200],\n",
    "        'classifier__max_depth': [3, 5, 7],\n",
    "        'classifier__learning_rate': [0.01, 0.1]\n",
    "    }\n",
    "}"
   ]
  },
  {
   "cell_type": "code",
   "execution_count": 42,
   "metadata": {},
   "outputs": [
    {
     "name": "stderr",
     "output_type": "stream",
     "text": [
      "2024/12/15 01:11:04 WARNING mlflow.models.model: Model logged without a signature and input example. Please set `input_example` parameter when logging the model to auto infer the model signature.\n"
     ]
    },
    {
     "name": "stdout",
     "output_type": "stream",
     "text": [
      "\n",
      "Results for LogisticRegression:\n",
      "F1-score: 0.7849462365591398\n",
      "Confusion matrix: [np.int64(887), np.int64(8), np.int64(32), np.int64(73)]\n",
      "R² score (train): 0.4968275862068966\n",
      "R² score (test): 0.5743548816174514\n",
      "MSE: 0.04\n",
      "RMSE: 0.2\n",
      "--------------------------------------------------\n",
      "🏃 View run LogisticRegression_FeatureEngineering at: https://dagshub.com/SomeshBhandarkar/LoanClassificationProject.mlflow/#/experiments/4/runs/9a2c13f17d5b45819896d5a598bdaf63\n",
      "🧪 View experiment at: https://dagshub.com/SomeshBhandarkar/LoanClassificationProject.mlflow/#/experiments/4\n"
     ]
    },
    {
     "name": "stderr",
     "output_type": "stream",
     "text": [
      "2024/12/15 01:11:23 WARNING mlflow.models.model: Model logged without a signature and input example. Please set `input_example` parameter when logging the model to auto infer the model signature.\n"
     ]
    },
    {
     "name": "stdout",
     "output_type": "stream",
     "text": [
      "\n",
      "Results for RidgeClassifier:\n",
      "F1-score: 0.5324675324675324\n",
      "Confusion matrix: [np.int64(887), np.int64(8), np.int64(64), np.int64(41)]\n",
      "R² score (train): 0.17020689655172416\n",
      "R² score (test): 0.23383878691141258\n",
      "MSE: 0.072\n",
      "RMSE: 0.2683281572999748\n",
      "--------------------------------------------------\n",
      "🏃 View run RidgeClassifier_FeatureEngineering at: https://dagshub.com/SomeshBhandarkar/LoanClassificationProject.mlflow/#/experiments/4/runs/2b7c029212bc4deea2957cdd23496f15\n",
      "🧪 View experiment at: https://dagshub.com/SomeshBhandarkar/LoanClassificationProject.mlflow/#/experiments/4\n"
     ]
    },
    {
     "name": "stderr",
     "output_type": "stream",
     "text": [
      "2024/12/15 01:11:55 WARNING mlflow.models.model: Model logged without a signature and input example. Please set `input_example` parameter when logging the model to auto infer the model signature.\n"
     ]
    },
    {
     "name": "stdout",
     "output_type": "stream",
     "text": [
      "\n",
      "Results for RandomForestClassifier:\n",
      "F1-score: 0.9090909090909091\n",
      "Confusion matrix: [np.int64(892), np.int64(3), np.int64(15), np.int64(90)]\n",
      "R² score (train): 1.0\n",
      "R² score (test): 0.8084596967278531\n",
      "MSE: 0.018\n",
      "RMSE: 0.1341640786499874\n",
      "--------------------------------------------------\n",
      "🏃 View run RandomForestClassifier_FeatureEngineering at: https://dagshub.com/SomeshBhandarkar/LoanClassificationProject.mlflow/#/experiments/4/runs/569f56393fe2483ab14ee717cbbcd215\n",
      "🧪 View experiment at: https://dagshub.com/SomeshBhandarkar/LoanClassificationProject.mlflow/#/experiments/4\n"
     ]
    },
    {
     "name": "stderr",
     "output_type": "stream",
     "text": [
      "2024/12/15 01:12:27 WARNING mlflow.models.model: Model logged without a signature and input example. Please set `input_example` parameter when logging the model to auto infer the model signature.\n"
     ]
    },
    {
     "name": "stdout",
     "output_type": "stream",
     "text": [
      "\n",
      "Results for XGBClassifier:\n",
      "F1-score: 0.8787878787878788\n",
      "Confusion matrix: [np.int64(889), np.int64(6), np.int64(18), np.int64(87)]\n",
      "R² score (train): 1.0\n",
      "R² score (test): 0.7446129289704708\n",
      "MSE: 0.024\n",
      "RMSE: 0.15491933384829668\n",
      "--------------------------------------------------\n",
      "🏃 View run XGBClassifier_FeatureEngineering at: https://dagshub.com/SomeshBhandarkar/LoanClassificationProject.mlflow/#/experiments/4/runs/52d7ca64f07f49ef9db7b248fce7c096\n",
      "🧪 View experiment at: https://dagshub.com/SomeshBhandarkar/LoanClassificationProject.mlflow/#/experiments/4\n"
     ]
    }
   ],
   "source": [
    "mlflow.set_tracking_uri(\"https://dagshub.com/SomeshBhandarkar/LoanClassificationProject.mlflow\")\n",
    "mlflow.set_experiment(\"Experiment 3 - Feature_Engineering\")\n",
    "\n",
    "for clf_name, pipeline in pipelines.items():\n",
    "    with mlflow.start_run(run_name=f\"{clf_name}_FeatureEngineering\"):\n",
    "        mlflow.log_param(\"features_created\", [\n",
    "            \"Age_Income_Ratio\", \"CCAvg_Income_Ratio\", \"Mortgage_Income_Ratio\",\n",
    "            \"Age_Squared\", \"Income_Squared\", \"CCAvg_Squared\"\n",
    "        ])\n",
    "\n",
    "        pipeline.fit(X_train, y_train)\n",
    "\n",
    "        y_pred = pipeline.predict(X_test)\n",
    "        y_pred_train = pipeline.predict(X_train)\n",
    "\n",
    "        f1 = f1_score(y_test, y_pred)\n",
    "        tn, fp, fn, tp = confusion_matrix(y_test, y_pred).ravel()\n",
    "        r2_test = r2_score(y_test, y_pred)\n",
    "        r2_train = r2_score(y_train, y_pred_train)\n",
    "        mse = mean_squared_error(y_test, y_pred)\n",
    "        rmse = np.sqrt(mse)\n",
    "\n",
    "        mlflow.log_metric(\"f1_score\", f1)\n",
    "        mlflow.log_metric(\"true_positives\", tp)\n",
    "        mlflow.log_metric(\"true_negatives\", tn)\n",
    "        mlflow.log_metric(\"false_positives\", fp)\n",
    "        mlflow.log_metric(\"false_negatives\", fn)\n",
    "        mlflow.log_metric(\"r2_train\", r2_train)\n",
    "        mlflow.log_metric(\"r2_test\", r2_test)\n",
    "        mlflow.log_metric(\"mse\", mse)\n",
    "        mlflow.log_metric(\"rmse\", rmse)\n",
    "\n",
    "        if clf_name in ['RandomForestClassifier', 'XGBClassifier']:\n",
    "            feature_importance = pipeline.named_steps['classifier'].feature_importances_\n",
    "            for feat, imp in zip(X.columns, feature_importance):\n",
    "                mlflow.log_metric(f\"importance_{feat}\", imp)\n",
    "\n",
    "        mlflow.sklearn.log_model(pipeline, \"model\")\n",
    "        \n",
    "        print(f\"\\nResults for {clf_name}:\")\n",
    "        print(\"F1-score:\", f1)\n",
    "        print(\"Confusion matrix:\", [tn, fp, fn, tp])\n",
    "        print(\"R² score (train):\", r2_train)\n",
    "        print(\"R² score (test):\", r2_test)\n",
    "        print(\"MSE:\", mse)\n",
    "        print(\"RMSE:\", rmse)\n",
    "        print(\"-\" * 50)"
   ]
  },
  {
   "cell_type": "markdown",
   "metadata": {},
   "source": [
    "## Experiment 4 -> "
   ]
  },
  {
   "cell_type": "code",
   "execution_count": 21,
   "metadata": {},
   "outputs": [],
   "source": [
    "X = df.drop(['ID', 'Personal_Loan'], axis=1)\n",
    "y = df['Personal_Loan']\n",
    "\n",
    "scaler = StandardScaler()\n",
    "X_scaled = scaler.fit_transform(X)\n",
    "X_scaled_df = pd.DataFrame(X_scaled, columns=X.columns)\n",
    "\n",
    "X_train, X_test, y_train, y_test = train_test_split(X, y, test_size=0.2, stratify=y, random_state=42)"
   ]
  },
  {
   "cell_type": "code",
   "execution_count": 12,
   "metadata": {},
   "outputs": [
    {
     "name": "stderr",
     "output_type": "stream",
     "text": [
      "2024/12/15 23:24:14 INFO mlflow.tracking.fluent: Experiment with name 'Experiment 4 - Feature_Selection' does not exist. Creating a new experiment.\n"
     ]
    },
    {
     "data": {
      "text/plain": [
       "<Experiment: artifact_location='mlflow-artifacts:/41b68707a14e4c6191eaa04ad5a0199c', creation_time=1734323053531, experiment_id='6', last_update_time=1734323053531, lifecycle_stage='active', name='Experiment 4 - Feature_Selection', tags={}>"
      ]
     },
     "execution_count": 12,
     "metadata": {},
     "output_type": "execute_result"
    }
   ],
   "source": [
    "import mlflow\n",
    "import mlflow.sklearn\n",
    "from sklearn.compose import ColumnTransformer\n",
    "from sklearn.pipeline import Pipeline\n",
    "from sklearn.preprocessing import StandardScaler\n",
    "from sklearn.model_selection import cross_validate, GridSearchCV\n",
    "from sklearn.linear_model import LogisticRegression\n",
    "from sklearn.metrics import f1_score, confusion_matrix\n",
    "import warnings\n",
    "warnings.filterwarnings('ignore')\n",
    "mlflow.set_tracking_uri(\"https://dagshub.com/SomeshBhandarkar/LoanClassificationProject.mlflow\")\n",
    "mlflow.set_experiment(\"Experiment 4 - Feature_Selection\")"
   ]
  },
  {
   "cell_type": "code",
   "execution_count": 13,
   "metadata": {},
   "outputs": [],
   "source": [
    "from sklearn.feature_selection import VarianceThreshold, SelectKBest, f_classif"
   ]
  },
  {
   "cell_type": "code",
   "execution_count": 14,
   "metadata": {},
   "outputs": [],
   "source": [
    "pipelines = {\n",
    "    'Correlation_Threshold': Pipeline([\n",
    "        ('selector', SelectKBest(score_func=f_classif, k=4)),\n",
    "        ('classifier', XGBClassifier(random_state=42))\n",
    "    ]),\n",
    "    'Feature_Importance': Pipeline([\n",
    "        ('selector', SelectKBest(score_func=f_classif, k=3)),\n",
    "        ('classifier', XGBClassifier(random_state=42))\n",
    "    ]),\n",
    "    'Variance_Threshold': Pipeline([\n",
    "        ('selector', VarianceThreshold(threshold=0.1)),\n",
    "        ('classifier', XGBClassifier(random_state=42))\n",
    "    ])\n",
    "}\n",
    "\n",
    "param_grid = {\n",
    "    'classifier__n_estimators': [100, 200],\n",
    "    'classifier__max_depth': [3, 5, 7],\n",
    "    'classifier__learning_rate': [0.01, 0.1]\n",
    "}"
   ]
  },
  {
   "cell_type": "code",
   "execution_count": 17,
   "metadata": {},
   "outputs": [
    {
     "name": "stderr",
     "output_type": "stream",
     "text": [
      "2024/12/16 00:04:16 WARNING mlflow.models.model: Model logged without a signature and input example. Please set `input_example` parameter when logging the model to auto infer the model signature.\n"
     ]
    },
    {
     "name": "stdout",
     "output_type": "stream",
     "text": [
      "\n",
      "Results for Correlation_Threshold:\n",
      "Selected Features: ['CD_Account', 'CCAvg', 'Mortgage', 'Income']\n",
      "F1-score: 0.6073\n",
      "Confusion Matrix: [TN=867, FP=28, FN=47, TP=58]\n",
      "R2 Score (train): 0.8293\n",
      "R2 Score (test): 0.2019\n",
      "--------------------------------------------------\n",
      "🏃 View run Correlation_Threshold_Selection at: https://dagshub.com/SomeshBhandarkar/LoanClassificationProject.mlflow/#/experiments/6/runs/c38bf53f31d5475eb3feef42077fc827\n",
      "🧪 View experiment at: https://dagshub.com/SomeshBhandarkar/LoanClassificationProject.mlflow/#/experiments/6\n"
     ]
    },
    {
     "name": "stderr",
     "output_type": "stream",
     "text": [
      "2024/12/16 00:04:33 WARNING mlflow.models.model: Model logged without a signature and input example. Please set `input_example` parameter when logging the model to auto infer the model signature.\n"
     ]
    },
    {
     "name": "stdout",
     "output_type": "stream",
     "text": [
      "\n",
      "Results for Feature_Importance:\n",
      "Selected Features: ['CD_Account', 'CCAvg', 'Income']\n",
      "F1-score: 0.5926\n",
      "Confusion Matrix: [TN=867, FP=28, FN=49, TP=56]\n",
      "R2 Score (train): 0.7970\n",
      "R2 Score (test): 0.1806\n",
      "--------------------------------------------------\n",
      "🏃 View run Feature_Importance_Selection at: https://dagshub.com/SomeshBhandarkar/LoanClassificationProject.mlflow/#/experiments/6/runs/d201212f17e94a33b2a14b9f50e51080\n",
      "🧪 View experiment at: https://dagshub.com/SomeshBhandarkar/LoanClassificationProject.mlflow/#/experiments/6\n"
     ]
    },
    {
     "name": "stderr",
     "output_type": "stream",
     "text": [
      "2024/12/16 00:05:00 WARNING mlflow.models.model: Model logged without a signature and input example. Please set `input_example` parameter when logging the model to auto infer the model signature.\n"
     ]
    },
    {
     "name": "stdout",
     "output_type": "stream",
     "text": [
      "\n",
      "Results for Variance_Threshold:\n",
      "Selected Features: ['CD_Account', 'Education', 'CCAvg', 'Mortgage', 'Age', 'Income']\n",
      "F1-score: 0.8768\n",
      "Confusion Matrix: [TN=886, FP=9, FN=16, TP=89]\n",
      "R2 Score (train): 1.0000\n",
      "R2 Score (test): 0.7340\n",
      "--------------------------------------------------\n",
      "🏃 View run Variance_Threshold_Selection at: https://dagshub.com/SomeshBhandarkar/LoanClassificationProject.mlflow/#/experiments/6/runs/c415d6ff550848b88268db87d5bd5b6b\n",
      "🧪 View experiment at: https://dagshub.com/SomeshBhandarkar/LoanClassificationProject.mlflow/#/experiments/6\n"
     ]
    }
   ],
   "source": [
    "from sklearn.metrics import f1_score, confusion_matrix, mean_squared_error, r2_score\n",
    "for method_name, pipeline in pipelines.items():\n",
    "    with mlflow.start_run(run_name=f\"{method_name}_Selection\"):\n",
    "        pipeline.fit(X_train, y_train)\n",
    "\n",
    "        if method_name != 'Variance_Threshold':\n",
    "            selected_mask = pipeline.named_steps['selector'].get_support()\n",
    "        else:\n",
    "            selected_mask = pipeline.named_steps['selector'].get_support()\n",
    "        \n",
    "        selected_features = X.columns[selected_mask].tolist()\n",
    "\n",
    "        y_pred = pipeline.predict(X_test)\n",
    "        y_pred_train = pipeline.predict(X_train)\n",
    "\n",
    "        f1 = f1_score(y_test, y_pred)\n",
    "        tn, fp, fn, tp = confusion_matrix(y_test, y_pred).ravel()\n",
    "        r2_test = r2_score(y_test, y_pred)\n",
    "        r2_train = r2_score(y_train, y_pred_train)\n",
    "\n",
    "        mlflow.log_param(\"selected_features\", selected_features)\n",
    "        mlflow.log_param(\"n_selected_features\", len(selected_features))\n",
    "        \n",
    "        mlflow.log_metric(\"f1_score\", f1)\n",
    "        mlflow.log_metric(\"true_positives\", tp)\n",
    "        mlflow.log_metric(\"true_negatives\", tn)\n",
    "        mlflow.log_metric(\"false_positives\", fp)\n",
    "        mlflow.log_metric(\"false_negatives\", fn)\n",
    "        mlflow.log_metric(\"r2_train\", r2_train)\n",
    "        mlflow.log_metric(\"r2_test\", r2_test)\n",
    "\n",
    "        feature_importance = pipeline.named_steps['classifier'].feature_importances_\n",
    "        for feat, imp in zip(selected_features, feature_importance):\n",
    "            mlflow.log_metric(f\"importance_{feat}\", imp)\n",
    "\n",
    "        mlflow.sklearn.log_model(pipeline, \"model\")\n",
    "        \n",
    "        print(f\"\\nResults for {method_name}:\")\n",
    "        print(f\"Selected Features: {selected_features}\")\n",
    "        print(f\"F1-score: {f1:.4f}\")\n",
    "        print(f\"Confusion Matrix: [TN={tn}, FP={fp}, FN={fn}, TP={tp}]\")\n",
    "        print(f\"R2 Score (train): {r2_train:.4f}\")\n",
    "        print(f\"R2 Score (test): {r2_test:.4f}\")\n",
    "        print(\"-\" * 50)\n",
    "\n",
    "        importances = pd.DataFrame({\n",
    "            'feature': selected_features,\n",
    "            'importance': feature_importance\n",
    "        }).sort_values('importance', ascending=False)\n",
    "        \n",
    "        mlflow.log_param(\"top_feature\", importances.iloc[0]['feature'])\n",
    "        mlflow.log_metric(\"top_feature_importance\", importances.iloc[0]['importance'])"
   ]
  },
  {
   "cell_type": "markdown",
   "metadata": {},
   "source": [
    "### Experiment 5 --> "
   ]
  },
  {
   "cell_type": "code",
   "execution_count": 22,
   "metadata": {},
   "outputs": [],
   "source": [
    "from sklearn.decomposition import PCA\n",
    "import matplotlib.pyplot as plt"
   ]
  },
  {
   "cell_type": "code",
   "execution_count": 23,
   "metadata": {},
   "outputs": [],
   "source": [
    "X = df.drop(['ID', 'Personal_Loan'], axis=1)\n",
    "y = df['Personal_Loan']\n",
    "\n",
    "scaler = StandardScaler()\n",
    "X_scaled = scaler.fit_transform(X)\n",
    "\n",
    "X_train, X_test, y_train, y_test = train_test_split(X, y, test_size=0.2, stratify=y, random_state=42)"
   ]
  },
  {
   "cell_type": "code",
   "execution_count": 22,
   "metadata": {},
   "outputs": [
    {
     "name": "stderr",
     "output_type": "stream",
     "text": [
      "2024/12/16 00:41:33 INFO mlflow.tracking.fluent: Experiment with name 'Experiment 5 - PCA ' does not exist. Creating a new experiment.\n"
     ]
    },
    {
     "data": {
      "text/plain": [
       "<Experiment: artifact_location='mlflow-artifacts:/f43828d2a36645d082644e9510da06cc', creation_time=1734327693647, experiment_id='7', last_update_time=1734327693647, lifecycle_stage='active', name='Experiment 5 - PCA ', tags={}>"
      ]
     },
     "execution_count": 22,
     "metadata": {},
     "output_type": "execute_result"
    }
   ],
   "source": [
    "mlflow.set_tracking_uri(\"https://dagshub.com/SomeshBhandarkar/LoanClassificationProject.mlflow\")\n",
    "mlflow.set_experiment(\"Experiment 5 - PCA \")"
   ]
  },
  {
   "cell_type": "code",
   "execution_count": 25,
   "metadata": {},
   "outputs": [
    {
     "name": "stderr",
     "output_type": "stream",
     "text": [
      "2024/12/16 00:42:44 WARNING mlflow.models.model: Model logged without a signature and input example. Please set `input_example` parameter when logging the model to auto infer the model signature.\n"
     ]
    },
    {
     "name": "stdout",
     "output_type": "stream",
     "text": [
      "Number of components selected: 6\n",
      "Cumulative variance explained: 1.0000\n",
      "F1-score: 0.7111\n",
      "Confusion Matrix: [TN=884, FP=11, FN=41, TP=64]\n",
      "R2 Score (train): 0.3674\n",
      "R2 Score (test): 0.4467\n",
      "🏃 View run PCA_Analysis at: https://dagshub.com/SomeshBhandarkar/LoanClassificationProject.mlflow/#/experiments/7/runs/5ee2a26f9d9c46799c7f0b1d1f0cf849\n",
      "🧪 View experiment at: https://dagshub.com/SomeshBhandarkar/LoanClassificationProject.mlflow/#/experiments/7\n"
     ]
    }
   ],
   "source": [
    "with mlflow.start_run(run_name=\"PCA_Analysis\"):\n",
    "    pca = PCA()\n",
    "    X_pca_train = pca.fit_transform(X_train)\n",
    "    X_pca_test = pca.transform(X_test)\n",
    "\n",
    "    explained_variance = pca.explained_variance_ratio_\n",
    "    cumulative_variance = np.cumsum(explained_variance)\n",
    "    \n",
    "    plt.figure(figsize=(10, 6))\n",
    "    plt.plot(range(1, len(explained_variance) + 1), explained_variance, 'bo-')\n",
    "    plt.plot(range(1, len(explained_variance) + 1), cumulative_variance, 'ro-')\n",
    "    plt.xlabel('Principal Components')\n",
    "    plt.ylabel('Variance Explained')\n",
    "    plt.title('Scree Plot')\n",
    "    plt.grid(True)\n",
    "    plt.legend(['Individual Variance', 'Cumulative Variance'])\n",
    "    plt.savefig('scree_plot.png')\n",
    "    plt.close()\n",
    "\n",
    "    mlflow.log_param(\"n_components\", len(explained_variance))\n",
    "    for i, var in enumerate(explained_variance):\n",
    "        mlflow.log_metric(f\"variance_ratio_pc{i+1}\", var)\n",
    "        mlflow.log_metric(f\"cumulative_variance_pc{i+1}\", cumulative_variance[i])\n",
    "\n",
    "    n_components = np.argmax(cumulative_variance >= 0.95) + 1\n",
    "\n",
    "    pca_final = PCA(n_components=n_components)\n",
    "    X_train_reduced = pca_final.fit_transform(X_train)\n",
    "    X_test_reduced = pca_final.transform(X_test)\n",
    "\n",
    "    clf = LogisticRegression(random_state=42)\n",
    "    clf.fit(X_train_reduced, y_train)\n",
    "\n",
    "    y_pred = clf.predict(X_test_reduced)\n",
    "    y_pred_train = clf.predict(X_train_reduced)\n",
    "\n",
    "    f1 = f1_score(y_test, y_pred)\n",
    "    tn, fp, fn, tp = confusion_matrix(y_test, y_pred).ravel()\n",
    "    r2_test = r2_score(y_test, y_pred)\n",
    "    r2_train = r2_score(y_train, y_pred_train)\n",
    "\n",
    "    mlflow.log_param(\"selected_components\", n_components)\n",
    "    mlflow.log_metric(\"f1_score\", f1)\n",
    "    mlflow.log_metric(\"true_positives\", tp)\n",
    "    mlflow.log_metric(\"true_negatives\", tn)\n",
    "    mlflow.log_metric(\"false_positives\", fp)\n",
    "    mlflow.log_metric(\"false_negatives\", fn)\n",
    "    mlflow.log_metric(\"r2_train\", r2_train)\n",
    "    mlflow.log_metric(\"r2_test\", r2_test)\n",
    "\n",
    "    mlflow.log_artifact(\"scree_plot.png\")\n",
    "\n",
    "    mlflow.sklearn.log_model(clf, \"model\")\n",
    "    \n",
    "    print(f\"Number of components selected: {n_components}\")\n",
    "    print(f\"Cumulative variance explained: {cumulative_variance[n_components-1]:.4f}\")\n",
    "    print(f\"F1-score: {f1:.4f}\")\n",
    "    print(f\"Confusion Matrix: [TN={tn}, FP={fp}, FN={fn}, TP={tp}]\")\n",
    "    print(f\"R2 Score (train): {r2_train:.4f}\")\n",
    "    print(f\"R2 Score (test): {r2_test:.4f}\")"
   ]
  },
  {
   "cell_type": "markdown",
   "metadata": {},
   "source": [
    "## Experiment 6 -> Custom experiment: in this experiment 6, perform t-sne on the and give me the code for it, and make a visuallization plot for it and log the results in MLFlow"
   ]
  },
  {
   "cell_type": "code",
   "execution_count": 24,
   "metadata": {},
   "outputs": [
    {
     "data": {
      "text/plain": [
       "CD_Account    0\n",
       "Education     0\n",
       "CCAvg         0\n",
       "Mortgage      0\n",
       "Age           0\n",
       "Income        0\n",
       "dtype: int64"
      ]
     },
     "execution_count": 24,
     "metadata": {},
     "output_type": "execute_result"
    }
   ],
   "source": [
    "from sklearn.manifold import TSNE\n",
    "df = pd.read_csv(\"final_queried_data.csv\")\n",
    "X = df.drop(['ID', 'Personal_Loan'], axis=1)\n",
    "y = df['Personal_Loan']\n",
    "\n",
    "scaler = StandardScaler()\n",
    "X_scaled = scaler.fit_transform(X)\n",
    "X_scaled_df = pd.DataFrame(X_scaled, columns=X.columns)\n",
    "\n",
    "X_train, X_test, y_train, y_test = train_test_split(X, y, test_size=0.2, stratify=y, random_state=42)\n",
    "X_train.isnull().sum()"
   ]
  },
  {
   "cell_type": "code",
   "execution_count": 9,
   "metadata": {},
   "outputs": [
    {
     "name": "stderr",
     "output_type": "stream",
     "text": [
      "2024/12/17 01:28:51 INFO mlflow.tracking.fluent: Experiment with name 'Experiment 6 - TSNE and Visualization' does not exist. Creating a new experiment.\n"
     ]
    },
    {
     "data": {
      "text/plain": [
       "<Experiment: artifact_location='mlflow-artifacts:/6f525b4f2bbb422f9cdafdd0405ed9af', creation_time=1734416930455, experiment_id='9', last_update_time=1734416930455, lifecycle_stage='active', name='Experiment 6 - TSNE and Visualization', tags={}>"
      ]
     },
     "execution_count": 9,
     "metadata": {},
     "output_type": "execute_result"
    }
   ],
   "source": [
    "mlflow.set_tracking_uri(\"https://dagshub.com/SomeshBhandarkar/LoanClassificationProject.mlflow\")\n",
    "mlflow.set_experiment(\"Experiment 6 - TSNE and Visualization\")"
   ]
  },
  {
   "cell_type": "code",
   "execution_count": 18,
   "metadata": {},
   "outputs": [
    {
     "name": "stdout",
     "output_type": "stream",
     "text": [
      "t-SNE Analysis Results:\n",
      "Train KL Divergence: 0.5794\n",
      "Train Inter-cluster Distance: 2.1957\n",
      "Test Inter-cluster Distance: 3.5992\n",
      "🏃 View run TSNE_Analysis at: https://dagshub.com/SomeshBhandarkar/LoanClassificationProject.mlflow/#/experiments/9/runs/f9bc2beb138b4b158cdfbcdf40929fc7\n",
      "🧪 View experiment at: https://dagshub.com/SomeshBhandarkar/LoanClassificationProject.mlflow/#/experiments/9\n"
     ]
    }
   ],
   "source": [
    "import matplotlib.pyplot as plt\n",
    "import seaborn as sns\n",
    "with mlflow.start_run(run_name=\"TSNE_Analysis\"):\n",
    "    tsne = TSNE(n_components=2, random_state=42, perplexity=30, n_iter=1000)\n",
    "    X_train_tsne = tsne.fit_transform(X_train)\n",
    "    X_test_tsne = tsne.fit_transform(X_test)\n",
    "\n",
    "    train_tsne_df = pd.DataFrame(data=X_train_tsne, columns=['TSNE1', 'TSNE2'])\n",
    "    train_tsne_df['Personal_Loan'] = y_train\n",
    "    train_tsne_df['Set'] = 'Train'\n",
    "    \n",
    "    test_tsne_df = pd.DataFrame(data=X_test_tsne, columns=['TSNE1', 'TSNE2'])\n",
    "    test_tsne_df['Personal_Loan'] = y_test\n",
    "    test_tsne_df['Set'] = 'Test'\n",
    "\n",
    "    tsne_df = pd.concat([train_tsne_df, test_tsne_df])\n",
    "\n",
    "    plt.figure(figsize=(12, 8))\n",
    "    sns.scatterplot(data=tsne_df, x='TSNE1', y='TSNE2', \n",
    "                    hue='Personal_Loan', style='Set',\n",
    "                    palette='viridis', alpha=0.6)\n",
    "    plt.title('t-SNE Visualization of Loan Data (Train and Test Sets)')\n",
    "    plt.xlabel('t-SNE Component 1')\n",
    "    plt.ylabel('t-SNE Component 2')\n",
    "\n",
    "    plt.savefig('tsne_plot.png')\n",
    "    plt.close()\n",
    "\n",
    "    mlflow.log_param(\"perplexity\", 30)\n",
    "    mlflow.log_param(\"n_iter\", 1000)\n",
    "    mlflow.log_param(\"n_components\", 2)\n",
    "    mlflow.log_param(\"train_size\", X_train.shape[0])\n",
    "    mlflow.log_param(\"test_size\", X_test.shape[0])\n",
    "\n",
    "    train_kl_divergence = tsne.kl_divergence_\n",
    "    mlflow.log_metric(\"train_kl_divergence\", train_kl_divergence)\n",
    "\n",
    "    train_loan_groups = train_tsne_df.groupby('Personal_Loan')\n",
    "    train_centers = train_loan_groups[['TSNE1', 'TSNE2']].mean()\n",
    "    \n",
    "    train_inter_cluster_dist = np.linalg.norm(\n",
    "        train_centers.loc[0] - train_centers.loc[1]\n",
    "    )\n",
    "    mlflow.log_metric(\"train_inter_cluster_distance\", train_inter_cluster_dist)\n",
    "\n",
    "    test_loan_groups = test_tsne_df.groupby('Personal_Loan')\n",
    "    test_centers = test_loan_groups[['TSNE1', 'TSNE2']].mean()\n",
    "    \n",
    "    test_inter_cluster_dist = np.linalg.norm(\n",
    "        test_centers.loc[0] - test_centers.loc[1]\n",
    "    )\n",
    "    mlflow.log_metric(\"test_inter_cluster_distance\", test_inter_cluster_dist)\n",
    "\n",
    "    mlflow.log_artifact(\"tsne_plot.png\")\n",
    "\n",
    "    print(\"t-SNE Analysis Results:\")\n",
    "    print(f\"Train KL Divergence: {train_kl_divergence:.4f}\")\n",
    "    print(f\"Train Inter-cluster Distance: {train_inter_cluster_dist:.4f}\")\n",
    "    print(f\"Test Inter-cluster Distance: {test_inter_cluster_dist:.4f}\")"
   ]
  },
  {
   "cell_type": "markdown",
   "metadata": {},
   "source": [
    "## Experiment 7 - in this experiment 7, perform recursive function elimination for better feature selection and give me the code for it, and log the results in MLFlow"
   ]
  },
  {
   "cell_type": "code",
   "execution_count": 19,
   "metadata": {},
   "outputs": [
    {
     "name": "stderr",
     "output_type": "stream",
     "text": [
      "2024/12/17 02:21:13 INFO mlflow.tracking.fluent: Experiment with name 'Feature 7 - RFE_Feature_Selection' does not exist. Creating a new experiment.\n"
     ]
    },
    {
     "data": {
      "text/plain": [
       "<Experiment: artifact_location='mlflow-artifacts:/aff77f59de3348c4ab7a5fcc7fa5bf6b', creation_time=1734420072379, experiment_id='10', last_update_time=1734420072379, lifecycle_stage='active', name='Feature 7 - RFE_Feature_Selection', tags={}>"
      ]
     },
     "execution_count": 19,
     "metadata": {},
     "output_type": "execute_result"
    }
   ],
   "source": [
    "from sklearn.feature_selection import RFE\n",
    "mlflow.set_tracking_uri(\"https://dagshub.com/SomeshBhandarkar/LoanClassificationProject.mlflow\")\n",
    "mlflow.set_experiment(\"Feature 7 - RFE_Feature_Selection\")"
   ]
  },
  {
   "cell_type": "code",
   "execution_count": 21,
   "metadata": {},
   "outputs": [
    {
     "name": "stdout",
     "output_type": "stream",
     "text": [
      "\n",
      "Results for 2 features:\n",
      "Selected features: ['CD_Account', 'Education']\n",
      "F1-score: 0.3750\n",
      "R² score (train): -0.0534\n",
      "R² score (test): 0.0423\n",
      "Confusion Matrix: [TN=883, FP=12, FN=78, TP=27]\n",
      "--------------------------------------------------\n",
      "\n",
      "Results for 3 features:\n",
      "Selected features: ['CD_Account', 'Education', 'Income']\n",
      "F1-score: 0.8247\n",
      "R² score (train): 0.6734\n",
      "R² score (test): 0.6382\n",
      "Confusion Matrix: [TN=886, FP=9, FN=25, TP=80]\n",
      "--------------------------------------------------\n",
      "\n",
      "Results for 4 features:\n",
      "Selected features: ['CD_Account', 'Education', 'CCAvg', 'Income']\n",
      "F1-score: 0.8738\n",
      "R² score (train): 0.9117\n",
      "R² score (test): 0.7233\n",
      "Confusion Matrix: [TN=884, FP=11, FN=15, TP=90]\n",
      "--------------------------------------------------\n",
      "\n",
      "Results for 5 features:\n",
      "Selected features: ['CD_Account', 'Education', 'CCAvg', 'Mortgage', 'Income']\n",
      "F1-score: 0.8846\n",
      "R² score (train): 0.9411\n",
      "R² score (test): 0.7446\n",
      "Confusion Matrix: [TN=884, FP=11, FN=13, TP=92]\n",
      "--------------------------------------------------\n"
     ]
    },
    {
     "name": "stderr",
     "output_type": "stream",
     "text": [
      "2024/12/17 02:33:05 WARNING mlflow.models.model: Model logged without a signature and input example. Please set `input_example` parameter when logging the model to auto infer the model signature.\n"
     ]
    },
    {
     "name": "stdout",
     "output_type": "stream",
     "text": [
      "🏃 View run RFE_Analysis at: https://dagshub.com/SomeshBhandarkar/LoanClassificationProject.mlflow/#/experiments/10/runs/6ab19a75e0ce43b6813259f6b1108f1b\n",
      "🧪 View experiment at: https://dagshub.com/SomeshBhandarkar/LoanClassificationProject.mlflow/#/experiments/10\n"
     ]
    }
   ],
   "source": [
    "from sklearn.metrics import f1_score, confusion_matrix, mean_squared_error, r2_score\n",
    "feature_nums = [2, 3, 4, 5]\n",
    "\n",
    "with mlflow.start_run(run_name=\"RFE_Analysis\"):\n",
    "    results = {}\n",
    "    \n",
    "    for n_features in feature_nums:\n",
    "        model = XGBClassifier(random_state=42)\n",
    "        rfe = RFE(estimator=model, n_features_to_select=n_features)\n",
    "        rfe.fit(X_train, y_train)\n",
    "        selected_features = X.columns[rfe.support_].tolist()\n",
    "        X_train_rfe = rfe.transform(X_train)\n",
    "        X_test_rfe = rfe.transform(X_test)\n",
    "        model.fit(X_train_rfe, y_train)\n",
    "\n",
    "        y_pred = model.predict(X_test_rfe)\n",
    "        y_pred_train = model.predict(X_train_rfe)\n",
    "\n",
    "        f1 = f1_score(y_test, y_pred)\n",
    "        tn, fp, fn, tp = confusion_matrix(y_test, y_pred).ravel()\n",
    "        r2_test = r2_score(y_test, y_pred)\n",
    "        r2_train = r2_score(y_train, y_pred_train)\n",
    "\n",
    "        mlflow.log_param(f\"selected_features_{n_features}\", selected_features)\n",
    "        mlflow.log_metric(f\"f1_score_{n_features}\", f1)\n",
    "        mlflow.log_metric(f\"r2_train_{n_features}\", r2_train)\n",
    "        mlflow.log_metric(f\"r2_test_{n_features}\", r2_test)\n",
    "        mlflow.log_metric(f\"true_positives_{n_features}\", tp)\n",
    "        mlflow.log_metric(f\"true_negatives_{n_features}\", tn)\n",
    "        mlflow.log_metric(f\"false_positives_{n_features}\", fp)\n",
    "        mlflow.log_metric(f\"false_negatives_{n_features}\", fn)\n",
    "\n",
    "        results[n_features] = {\n",
    "            'selected_features': selected_features,\n",
    "            'f1_score': f1,\n",
    "            'r2_train': r2_train,\n",
    "            'r2_test': r2_test,\n",
    "            'confusion_matrix': [tn, fp, fn, tp]\n",
    "        }\n",
    "        \n",
    "        print(f\"\\nResults for {n_features} features:\")\n",
    "        print(f\"Selected features: {selected_features}\")\n",
    "        print(f\"F1-score: {f1:.4f}\")\n",
    "        print(f\"R² score (train): {r2_train:.4f}\")\n",
    "        print(f\"R² score (test): {r2_test:.4f}\")\n",
    "        print(f\"Confusion Matrix: [TN={tn}, FP={fp}, FN={fn}, TP={tp}]\")\n",
    "        print(\"-\" * 50)\n",
    "\n",
    "    best_n = max(results.keys(), key=lambda x: results[x]['f1_score'])\n",
    "\n",
    "    mlflow.log_param(\"best_n_features\", best_n)\n",
    "    mlflow.log_param(\"best_features\", results[best_n]['selected_features'])\n",
    "    mlflow.log_metric(\"best_f1_score\", results[best_n]['f1_score'])\n",
    "\n",
    "    final_rfe = RFE(XGBClassifier(random_state=42), n_features_to_select=best_n)\n",
    "    final_rfe.fit(X_train, y_train)\n",
    "    mlflow.sklearn.log_model(final_rfe, \"final_model\")"
   ]
  },
  {
   "cell_type": "markdown",
   "metadata": {},
   "source": [
    "### Create meaningful F1-score plots to compare experiments and determine the best model."
   ]
  },
  {
   "cell_type": "code",
   "execution_count": 5,
   "metadata": {},
   "outputs": [],
   "source": [
    "models = {\n",
    "    'Logistic Regression': LogisticRegression(random_state=42),\n",
    "    'Ridge Classifier': RidgeClassifier(random_state=42),\n",
    "    'Random Forest': RandomForestClassifier(random_state=42),\n",
    "    'XGBoost': XGBClassifier(random_state=42)\n",
    "}"
   ]
  },
  {
   "cell_type": "code",
   "execution_count": 10,
   "metadata": {},
   "outputs": [],
   "source": [
    "from sklearn.metrics import f1_score, confusion_matrix, mean_squared_error, r2_score\n",
    "results = {}\n",
    "for name, model in models.items():\n",
    "    # Train model\n",
    "    model.fit(X_train, y_train)\n",
    "    \n",
    "    # Make predictions\n",
    "    y_pred_train = model.predict(X_train)\n",
    "    y_pred_test = model.predict(X_test)\n",
    "    \n",
    "    # Calculate F1 scores\n",
    "    train_f1 = f1_score(y_train, y_pred_train)\n",
    "    test_f1 = f1_score(y_test, y_pred_test)\n",
    "    \n",
    "    results[name] = {\n",
    "        'Train F1': train_f1,\n",
    "        'Test F1': test_f1\n",
    "    }"
   ]
  },
  {
   "cell_type": "code",
   "execution_count": 15,
   "metadata": {},
   "outputs": [
    {
     "data": {
      "image/png": "[encoded data removed]",
      "text/plain": [
       "<Figure size 600x600 with 1 Axes>"
      ]
     },
     "metadata": {},
     "output_type": "display_data"
    },
    {
     "data": {
      "image/png": "[encoded data removed]",
      "text/plain": [
       "<Figure size 600x600 with 2 Axes>"
      ]
     },
     "metadata": {},
     "output_type": "display_data"
    },
    {
     "name": "stdout",
     "output_type": "stream",
     "text": [
      "\n",
      "Detailed Results:\n",
      "\n",
      "Logistic Regression:\n",
      "Training F1 Score: 0.666\n",
      "Testing F1 Score: 0.711\n",
      "\n",
      "Ridge Classifier:\n",
      "Training F1 Score: 0.448\n",
      "Testing F1 Score: 0.465\n",
      "\n",
      "Random Forest:\n",
      "Training F1 Score: 1.000\n",
      "Testing F1 Score: 0.898\n",
      "\n",
      "XGBoost:\n",
      "Training F1 Score: 1.000\n",
      "Testing F1 Score: 0.906\n"
     ]
    }
   ],
   "source": [
    "import matplotlib.pyplot as plt\n",
    "import seaborn as sns\n",
    "from sklearn.metrics import f1_score, confusion_matrix, mean_squared_error, r2_score\n",
    "plt.figure(figsize=(6, 6))\n",
    "x = np.arange(len(models))\n",
    "width = 0.35\n",
    "\n",
    "train_scores = [results[model]['Train F1'] for model in models]\n",
    "test_scores = [results[model]['Test F1'] for model in models]\n",
    "\n",
    "plt.bar(x - width/2, train_scores, width, label='Training F1', color='skyblue')\n",
    "plt.bar(x + width/2, test_scores, width, label='Testing F1', color='lightcoral')\n",
    "\n",
    "plt.xlabel('Models')\n",
    "plt.ylabel('F1 Score')\n",
    "plt.title('Model Comparison: Training vs Testing F1 Scores')\n",
    "plt.xticks(x, models.keys(), rotation=45)\n",
    "plt.legend()\n",
    "plt.grid(True, alpha=0.3)\n",
    "plt.tight_layout()\n",
    "plt.show()\n",
    "\n",
    "plt.figure(figsize=(6, 6))\n",
    "scores_df = pd.DataFrame(results).T\n",
    "sns.heatmap(scores_df, annot=True, cmap='YlOrRd', fmt='.3f')\n",
    "plt.title('F1 Scores Heatmap')\n",
    "plt.tight_layout()\n",
    "plt.show()\n",
    "\n",
    "print(\"\\nDetailed Results:\")\n",
    "for model, scores in results.items():\n",
    "    print(f\"\\n{model}:\")\n",
    "    print(f\"Training F1 Score: {scores['Train F1']:.3f}\")\n",
    "    print(f\"Testing F1 Score: {scores['Test F1']:.3f}\")"
   ]
  },
  {
   "cell_type": "markdown",
   "metadata": {},
   "source": [
    "## Save the final model using joblib.\n",
    "## Create a FastAPI application to serve the model.\n",
    "## Containerize the FastAPI application using Docker and push to Docker Hub.\n",
    "## Deploy the containerized API to a cloud platform."
   ]
  },
  {
   "cell_type": "code",
   "execution_count": 25,
   "metadata": {},
   "outputs": [
    {
     "data": {
      "text/plain": [
       "['RF_loan_prediction_model.pkl']"
      ]
     },
     "execution_count": 25,
     "metadata": {},
     "output_type": "execute_result"
    }
   ],
   "source": [
    "import joblib\n",
    "best_model = RandomForestClassifier(random_state=42)\n",
    "best_model.fit(X_train, y_train)\n",
    "joblib.dump(best_model, 'RF_loan_prediction_model.pkl')"
   ]
  }
 ],
 "metadata": {
  "kernelspec": {
   "display_name": "Python 3",
   "language": "python",
   "name": "python3"
  },
  "language_info": {
   "codemirror_mode": {
    "name": "ipython",
    "version": 3
   },
   "file_extension": ".py",
   "mimetype": "text/x-python",
   "name": "python",
   "nbconvert_exporter": "python",
   "pygments_lexer": "ipython3",
   "version": "3.12.4"
  }
 },
 "nbformat": 4,
 "nbformat_minor": 2
}